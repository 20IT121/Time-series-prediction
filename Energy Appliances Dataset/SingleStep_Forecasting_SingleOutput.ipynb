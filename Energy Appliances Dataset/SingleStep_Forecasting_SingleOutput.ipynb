{
  "nbformat": 4,
  "nbformat_minor": 0,
  "metadata": {
    "colab": {
      "provenance": [],
      "toc_visible": true
    },
    "kernelspec": {
      "name": "python3",
      "display_name": "Python 3"
    },
    "language_info": {
      "name": "python"
    }
  },
  "cells": [
    {
      "cell_type": "markdown",
      "source": [
        "## Setup"
      ],
      "metadata": {
        "id": "hT9--fEWBS2v"
      }
    },
    {
      "cell_type": "code",
      "execution_count": null,
      "metadata": {
        "id": "PRNAMN5QBKD5"
      },
      "outputs": [],
      "source": [
        "import os\n",
        "import datetime\n",
        "\n",
        "import IPython\n",
        "import IPython.display\n",
        "import matplotlib as mpl\n",
        "import matplotlib.pyplot as plt\n",
        "import numpy as np\n",
        "import pandas as pd\n",
        "import seaborn as sns\n",
        "import tensorflow as tf\n",
        "from tensorflow.keras.models import Sequential\n",
        "from tensorflow.keras.layers import Bidirectional, LSTM, Dense , GRU , SimpleRNN\n",
        "\n",
        "mpl.rcParams['figure.figsize'] = (8, 6)\n",
        "mpl.rcParams['axes.grid'] = False"
      ]
    },
    {
      "cell_type": "markdown",
      "source": [
        "## Appliances Energy Dataset\n",
        "\n",
        "- Most suitable essential feature for predicting appliance energy consumption could be \"Appliances\" itself.\n",
        "- Since the target variable is the energy consumption of appliances, it is reasonable to assume that this feature has a direct impact on the prediction task."
      ],
      "metadata": {
        "id": "qptwipkSgXOh"
      }
    },
    {
      "cell_type": "code",
      "source": [
        "from google.colab import drive\n",
        "drive.mount('/content/drive')\n",
        "\n",
        "import zipfile\n",
        "zip_path = '/content/drive/MyDrive/appliances+energy+prediction.zip'\n",
        "extract_path = '/content/drive/MyDrive/extracted_folder'\n",
        "with zipfile.ZipFile(zip_path, 'r') as zip_ref:\n",
        "    zip_ref.extractall(extract_path)\n",
        "\n",
        "csv_path = '/content/drive/MyDrive/extracted_folder/energydata_complete.csv'\n",
        "df = pd.read_csv(csv_path)\n",
        "\n",
        "date_time = pd.to_datetime(df.pop('date'), format='%Y-%m-%d %H:%M:%S')"
      ],
      "metadata": {
        "colab": {
          "base_uri": "https://localhost:8080/"
        },
        "id": "ZYHyOaXjXudW",
        "outputId": "0a34cd56-22d8-475a-be0f-090718da6ba7"
      },
      "execution_count": null,
      "outputs": [
        {
          "output_type": "stream",
          "name": "stdout",
          "text": [
            "Mounted at /content/drive\n"
          ]
        }
      ]
    },
    {
      "cell_type": "code",
      "source": [
        "df.head()"
      ],
      "metadata": {
        "colab": {
          "base_uri": "https://localhost:8080/",
          "height": 299
        },
        "id": "wYlM2N0bYCRa",
        "outputId": "c4cd868a-cec2-45ab-fefc-d2221b0247a7"
      },
      "execution_count": null,
      "outputs": [
        {
          "output_type": "execute_result",
          "data": {
            "text/plain": [
              "   Appliances  lights     T1       RH_1    T2       RH_2     T3       RH_3  \\\n",
              "0          60      30  19.89  47.596667  19.2  44.790000  19.79  44.730000   \n",
              "1          60      30  19.89  46.693333  19.2  44.722500  19.79  44.790000   \n",
              "2          50      30  19.89  46.300000  19.2  44.626667  19.79  44.933333   \n",
              "3          50      40  19.89  46.066667  19.2  44.590000  19.79  45.000000   \n",
              "4          60      40  19.89  46.333333  19.2  44.530000  19.79  45.000000   \n",
              "\n",
              "          T4       RH_4  ...         T9   RH_9     T_out  Press_mm_hg  RH_out  \\\n",
              "0  19.000000  45.566667  ...  17.033333  45.53  6.600000        733.5    92.0   \n",
              "1  19.000000  45.992500  ...  17.066667  45.56  6.483333        733.6    92.0   \n",
              "2  18.926667  45.890000  ...  17.000000  45.50  6.366667        733.7    92.0   \n",
              "3  18.890000  45.723333  ...  17.000000  45.40  6.250000        733.8    92.0   \n",
              "4  18.890000  45.530000  ...  17.000000  45.40  6.133333        733.9    92.0   \n",
              "\n",
              "   Windspeed  Visibility  Tdewpoint        rv1        rv2  \n",
              "0   7.000000   63.000000        5.3  13.275433  13.275433  \n",
              "1   6.666667   59.166667        5.2  18.606195  18.606195  \n",
              "2   6.333333   55.333333        5.1  28.642668  28.642668  \n",
              "3   6.000000   51.500000        5.0  45.410389  45.410389  \n",
              "4   5.666667   47.666667        4.9  10.084097  10.084097  \n",
              "\n",
              "[5 rows x 28 columns]"
            ],
            "text/html": [
              "\n",
              "  <div id=\"df-ac0922ec-0b40-4f93-8675-ebf793a8fcf8\">\n",
              "    <div class=\"colab-df-container\">\n",
              "      <div>\n",
              "<style scoped>\n",
              "    .dataframe tbody tr th:only-of-type {\n",
              "        vertical-align: middle;\n",
              "    }\n",
              "\n",
              "    .dataframe tbody tr th {\n",
              "        vertical-align: top;\n",
              "    }\n",
              "\n",
              "    .dataframe thead th {\n",
              "        text-align: right;\n",
              "    }\n",
              "</style>\n",
              "<table border=\"1\" class=\"dataframe\">\n",
              "  <thead>\n",
              "    <tr style=\"text-align: right;\">\n",
              "      <th></th>\n",
              "      <th>Appliances</th>\n",
              "      <th>lights</th>\n",
              "      <th>T1</th>\n",
              "      <th>RH_1</th>\n",
              "      <th>T2</th>\n",
              "      <th>RH_2</th>\n",
              "      <th>T3</th>\n",
              "      <th>RH_3</th>\n",
              "      <th>T4</th>\n",
              "      <th>RH_4</th>\n",
              "      <th>...</th>\n",
              "      <th>T9</th>\n",
              "      <th>RH_9</th>\n",
              "      <th>T_out</th>\n",
              "      <th>Press_mm_hg</th>\n",
              "      <th>RH_out</th>\n",
              "      <th>Windspeed</th>\n",
              "      <th>Visibility</th>\n",
              "      <th>Tdewpoint</th>\n",
              "      <th>rv1</th>\n",
              "      <th>rv2</th>\n",
              "    </tr>\n",
              "  </thead>\n",
              "  <tbody>\n",
              "    <tr>\n",
              "      <th>0</th>\n",
              "      <td>60</td>\n",
              "      <td>30</td>\n",
              "      <td>19.89</td>\n",
              "      <td>47.596667</td>\n",
              "      <td>19.2</td>\n",
              "      <td>44.790000</td>\n",
              "      <td>19.79</td>\n",
              "      <td>44.730000</td>\n",
              "      <td>19.000000</td>\n",
              "      <td>45.566667</td>\n",
              "      <td>...</td>\n",
              "      <td>17.033333</td>\n",
              "      <td>45.53</td>\n",
              "      <td>6.600000</td>\n",
              "      <td>733.5</td>\n",
              "      <td>92.0</td>\n",
              "      <td>7.000000</td>\n",
              "      <td>63.000000</td>\n",
              "      <td>5.3</td>\n",
              "      <td>13.275433</td>\n",
              "      <td>13.275433</td>\n",
              "    </tr>\n",
              "    <tr>\n",
              "      <th>1</th>\n",
              "      <td>60</td>\n",
              "      <td>30</td>\n",
              "      <td>19.89</td>\n",
              "      <td>46.693333</td>\n",
              "      <td>19.2</td>\n",
              "      <td>44.722500</td>\n",
              "      <td>19.79</td>\n",
              "      <td>44.790000</td>\n",
              "      <td>19.000000</td>\n",
              "      <td>45.992500</td>\n",
              "      <td>...</td>\n",
              "      <td>17.066667</td>\n",
              "      <td>45.56</td>\n",
              "      <td>6.483333</td>\n",
              "      <td>733.6</td>\n",
              "      <td>92.0</td>\n",
              "      <td>6.666667</td>\n",
              "      <td>59.166667</td>\n",
              "      <td>5.2</td>\n",
              "      <td>18.606195</td>\n",
              "      <td>18.606195</td>\n",
              "    </tr>\n",
              "    <tr>\n",
              "      <th>2</th>\n",
              "      <td>50</td>\n",
              "      <td>30</td>\n",
              "      <td>19.89</td>\n",
              "      <td>46.300000</td>\n",
              "      <td>19.2</td>\n",
              "      <td>44.626667</td>\n",
              "      <td>19.79</td>\n",
              "      <td>44.933333</td>\n",
              "      <td>18.926667</td>\n",
              "      <td>45.890000</td>\n",
              "      <td>...</td>\n",
              "      <td>17.000000</td>\n",
              "      <td>45.50</td>\n",
              "      <td>6.366667</td>\n",
              "      <td>733.7</td>\n",
              "      <td>92.0</td>\n",
              "      <td>6.333333</td>\n",
              "      <td>55.333333</td>\n",
              "      <td>5.1</td>\n",
              "      <td>28.642668</td>\n",
              "      <td>28.642668</td>\n",
              "    </tr>\n",
              "    <tr>\n",
              "      <th>3</th>\n",
              "      <td>50</td>\n",
              "      <td>40</td>\n",
              "      <td>19.89</td>\n",
              "      <td>46.066667</td>\n",
              "      <td>19.2</td>\n",
              "      <td>44.590000</td>\n",
              "      <td>19.79</td>\n",
              "      <td>45.000000</td>\n",
              "      <td>18.890000</td>\n",
              "      <td>45.723333</td>\n",
              "      <td>...</td>\n",
              "      <td>17.000000</td>\n",
              "      <td>45.40</td>\n",
              "      <td>6.250000</td>\n",
              "      <td>733.8</td>\n",
              "      <td>92.0</td>\n",
              "      <td>6.000000</td>\n",
              "      <td>51.500000</td>\n",
              "      <td>5.0</td>\n",
              "      <td>45.410389</td>\n",
              "      <td>45.410389</td>\n",
              "    </tr>\n",
              "    <tr>\n",
              "      <th>4</th>\n",
              "      <td>60</td>\n",
              "      <td>40</td>\n",
              "      <td>19.89</td>\n",
              "      <td>46.333333</td>\n",
              "      <td>19.2</td>\n",
              "      <td>44.530000</td>\n",
              "      <td>19.79</td>\n",
              "      <td>45.000000</td>\n",
              "      <td>18.890000</td>\n",
              "      <td>45.530000</td>\n",
              "      <td>...</td>\n",
              "      <td>17.000000</td>\n",
              "      <td>45.40</td>\n",
              "      <td>6.133333</td>\n",
              "      <td>733.9</td>\n",
              "      <td>92.0</td>\n",
              "      <td>5.666667</td>\n",
              "      <td>47.666667</td>\n",
              "      <td>4.9</td>\n",
              "      <td>10.084097</td>\n",
              "      <td>10.084097</td>\n",
              "    </tr>\n",
              "  </tbody>\n",
              "</table>\n",
              "<p>5 rows × 28 columns</p>\n",
              "</div>\n",
              "      <button class=\"colab-df-convert\" onclick=\"convertToInteractive('df-ac0922ec-0b40-4f93-8675-ebf793a8fcf8')\"\n",
              "              title=\"Convert this dataframe to an interactive table.\"\n",
              "              style=\"display:none;\">\n",
              "        \n",
              "  <svg xmlns=\"http://www.w3.org/2000/svg\" height=\"24px\"viewBox=\"0 0 24 24\"\n",
              "       width=\"24px\">\n",
              "    <path d=\"M0 0h24v24H0V0z\" fill=\"none\"/>\n",
              "    <path d=\"M18.56 5.44l.94 2.06.94-2.06 2.06-.94-2.06-.94-.94-2.06-.94 2.06-2.06.94zm-11 1L8.5 8.5l.94-2.06 2.06-.94-2.06-.94L8.5 2.5l-.94 2.06-2.06.94zm10 10l.94 2.06.94-2.06 2.06-.94-2.06-.94-.94-2.06-.94 2.06-2.06.94z\"/><path d=\"M17.41 7.96l-1.37-1.37c-.4-.4-.92-.59-1.43-.59-.52 0-1.04.2-1.43.59L10.3 9.45l-7.72 7.72c-.78.78-.78 2.05 0 2.83L4 21.41c.39.39.9.59 1.41.59.51 0 1.02-.2 1.41-.59l7.78-7.78 2.81-2.81c.8-.78.8-2.07 0-2.86zM5.41 20L4 18.59l7.72-7.72 1.47 1.35L5.41 20z\"/>\n",
              "  </svg>\n",
              "      </button>\n",
              "      \n",
              "  <style>\n",
              "    .colab-df-container {\n",
              "      display:flex;\n",
              "      flex-wrap:wrap;\n",
              "      gap: 12px;\n",
              "    }\n",
              "\n",
              "    .colab-df-convert {\n",
              "      background-color: #E8F0FE;\n",
              "      border: none;\n",
              "      border-radius: 50%;\n",
              "      cursor: pointer;\n",
              "      display: none;\n",
              "      fill: #1967D2;\n",
              "      height: 32px;\n",
              "      padding: 0 0 0 0;\n",
              "      width: 32px;\n",
              "    }\n",
              "\n",
              "    .colab-df-convert:hover {\n",
              "      background-color: #E2EBFA;\n",
              "      box-shadow: 0px 1px 2px rgba(60, 64, 67, 0.3), 0px 1px 3px 1px rgba(60, 64, 67, 0.15);\n",
              "      fill: #174EA6;\n",
              "    }\n",
              "\n",
              "    [theme=dark] .colab-df-convert {\n",
              "      background-color: #3B4455;\n",
              "      fill: #D2E3FC;\n",
              "    }\n",
              "\n",
              "    [theme=dark] .colab-df-convert:hover {\n",
              "      background-color: #434B5C;\n",
              "      box-shadow: 0px 1px 3px 1px rgba(0, 0, 0, 0.15);\n",
              "      filter: drop-shadow(0px 1px 2px rgba(0, 0, 0, 0.3));\n",
              "      fill: #FFFFFF;\n",
              "    }\n",
              "  </style>\n",
              "\n",
              "      <script>\n",
              "        const buttonEl =\n",
              "          document.querySelector('#df-ac0922ec-0b40-4f93-8675-ebf793a8fcf8 button.colab-df-convert');\n",
              "        buttonEl.style.display =\n",
              "          google.colab.kernel.accessAllowed ? 'block' : 'none';\n",
              "\n",
              "        async function convertToInteractive(key) {\n",
              "          const element = document.querySelector('#df-ac0922ec-0b40-4f93-8675-ebf793a8fcf8');\n",
              "          const dataTable =\n",
              "            await google.colab.kernel.invokeFunction('convertToInteractive',\n",
              "                                                     [key], {});\n",
              "          if (!dataTable) return;\n",
              "\n",
              "          const docLinkHtml = 'Like what you see? Visit the ' +\n",
              "            '<a target=\"_blank\" href=https://colab.research.google.com/notebooks/data_table.ipynb>data table notebook</a>'\n",
              "            + ' to learn more about interactive tables.';\n",
              "          element.innerHTML = '';\n",
              "          dataTable['output_type'] = 'display_data';\n",
              "          await google.colab.output.renderOutput(dataTable, element);\n",
              "          const docLink = document.createElement('div');\n",
              "          docLink.innerHTML = docLinkHtml;\n",
              "          element.appendChild(docLink);\n",
              "        }\n",
              "      </script>\n",
              "    </div>\n",
              "  </div>\n",
              "  "
            ]
          },
          "metadata": {},
          "execution_count": 3
        }
      ]
    },
    {
      "cell_type": "code",
      "source": [
        "# Unwanted attributes , these are random variable they don't have any physical significance and interpretations\n",
        "# They are present in dataset for eg: representing unknown or unmeasured factors, introducing noise or variability,\n",
        "df.pop('rv1')\n",
        "df.pop('rv2')"
      ],
      "metadata": {
        "id": "hAMi8vgXjJrw",
        "colab": {
          "base_uri": "https://localhost:8080/"
        },
        "outputId": "dfa1d3c5-7841-4f88-c226-59fa49df6e4f"
      },
      "execution_count": null,
      "outputs": [
        {
          "output_type": "execute_result",
          "data": {
            "text/plain": [
              "0        13.275433\n",
              "1        18.606195\n",
              "2        28.642668\n",
              "3        45.410389\n",
              "4        10.084097\n",
              "           ...    \n",
              "19730    43.096812\n",
              "19731    49.282940\n",
              "19732    29.199117\n",
              "19733     6.322784\n",
              "19734    34.118851\n",
              "Name: rv2, Length: 19735, dtype: float64"
            ]
          },
          "metadata": {},
          "execution_count": 4
        }
      ]
    },
    {
      "cell_type": "markdown",
      "source": [
        "## Splitting of Data in 70:20:10 for ( training , validation , testing ) sets"
      ],
      "metadata": {
        "id": "37mRXGZeVpkf"
      }
    },
    {
      "cell_type": "code",
      "source": [
        "column_indices = {name: i for i, name in enumerate(df.columns)}\n",
        "\n",
        "n = len(df)\n",
        "train_df = df[0:int(n*(70/100))]\n",
        "val_df = df[int(n*(70/100)):int(n*(90/100))]\n",
        "test_df = df[int(n*(90/100)):]\n",
        "\n",
        "num_features = df.shape[1]\n",
        "print(num_features)"
      ],
      "metadata": {
        "id": "Iv8irOR7R533",
        "colab": {
          "base_uri": "https://localhost:8080/"
        },
        "outputId": "2975bf76-0367-43a1-886b-eab411853cc1"
      },
      "execution_count": null,
      "outputs": [
        {
          "output_type": "stream",
          "name": "stdout",
          "text": [
            "26\n"
          ]
        }
      ]
    },
    {
      "cell_type": "markdown",
      "source": [
        "## Normalize the data"
      ],
      "metadata": {
        "id": "KkVZ_ATxWgMu"
      }
    },
    {
      "cell_type": "code",
      "source": [
        "train_mean = train_df.mean(numeric_only=True)\n",
        "train_std = train_df.std(numeric_only=True)\n",
        "\n",
        "train_df = (train_df - train_mean) / train_std\n",
        "val_df = (val_df - train_mean) / train_std\n",
        "test_df = (test_df - train_mean) / train_std\n",
        "train_df.size"
      ],
      "metadata": {
        "id": "QpHr1tM5WhHT",
        "colab": {
          "base_uri": "https://localhost:8080/"
        },
        "outputId": "c51d39b6-680d-491e-bed1-b5a391333a64"
      },
      "execution_count": null,
      "outputs": [
        {
          "output_type": "execute_result",
          "data": {
            "text/plain": [
              "359164"
            ]
          },
          "metadata": {},
          "execution_count": 6
        }
      ]
    },
    {
      "cell_type": "markdown",
      "source": [
        "## Data Windowing\n",
        "\n",
        "- The purpose of data windowing is to break down a larger dataset into smaller, more manageable chunks that can be analyzed or processed individually.\n",
        "\n",
        "- By segmenting the time series into smaller windows, it becomes possible to analyze each segment independently and extract relevant features or characteristics. This can be useful for tasks such as trend analysis, anomaly detection, or forecasting.\n",
        "\n"
      ],
      "metadata": {
        "id": "FN55_1ULXFPQ"
      }
    },
    {
      "cell_type": "markdown",
      "source": [
        "### ***- Indexes and offsets***"
      ],
      "metadata": {
        "id": "JiTMZZgYDy7P"
      }
    },
    {
      "cell_type": "code",
      "source": [
        "# input_width: The number of time steps in the input window.\n",
        "# label_width: The number of time steps in the output/label window.\n",
        "# shift: The number of time steps to shift the window for the next prediction. Here we will move data by 24 (we'll take the data of each day as a subsequence)\n",
        "# train_df, val_df, test_df: DataFrames containing the training, validation, and testing data.\n",
        "# label_columns: A list of column names that represent the output/label variables.\n",
        "\n",
        "class WindowGenerator():\n",
        "  def __init__(self, input_width, label_width, shift,\n",
        "               train_df=train_df, val_df=val_df, test_df=test_df,\n",
        "               label_columns=['Appliances']):\n",
        "    # Store the raw data.\n",
        "    self.train_df = train_df\n",
        "    self.val_df = val_df\n",
        "    self.test_df = test_df\n",
        "\n",
        "    # Work out the label column indices.\n",
        "    self.label_columns = label_columns\n",
        "    if label_columns is not None:\n",
        "      self.label_columns_indices = {name: i for i, name in\n",
        "                                    enumerate(label_columns)}\n",
        "    self.column_indices = {name: i for i, name in\n",
        "                           enumerate(train_df.columns)}\n",
        "\n",
        "    # Work out the window parameters.\n",
        "    self.input_width = input_width\n",
        "    self.label_width = label_width\n",
        "    self.shift = shift\n",
        "\n",
        "    self.total_window_size = input_width + shift\n",
        "\n",
        "    self.input_slice = slice(0, input_width)  # This will create slice object slice(0, input_width, None)\n",
        "    self.input_indices = np.arange(self.total_window_size)[self.input_slice]  # input_indices will contain indeces from 0 to input_width (instead of till total_window_size)\n",
        "\n",
        "    self.label_start = self.total_window_size - self.label_width # starting index of output / label / prediction\n",
        "    self.labels_slice = slice(self.label_start, None)   # This will create slice object slice(label_start, None, None)\n",
        "    self.label_indices = np.arange(self.total_window_size)[self.labels_slice] # label_indices contains indices from label_start to end\n",
        "\n",
        "  def __repr__(self):\n",
        "    return '\\n'.join([\n",
        "        f'Total window size: {self.total_window_size}',\n",
        "        f'Input indices: {self.input_indices}',\n",
        "        f'Label indices: {self.label_indices}',\n",
        "        f'Label column name(s): {self.label_columns}'])"
      ],
      "metadata": {
        "id": "zC8T0ZdYWs0K"
      },
      "execution_count": null,
      "outputs": []
    },
    {
      "cell_type": "markdown",
      "source": [
        "### ***- Split Window***\n",
        "\n",
        "- The features tensor is assumed to have a shape of [batch_size, total_window_size, num_features]. The input_slice is a range of indices that specifies which part of the total_window_size to consider as the input window. So this line extracts the input window from the features tensor.\n",
        "\n",
        "- labels_slice is a range of indices that specifies which part of the total_window_size to consider as the label window.\n"
      ],
      "metadata": {
        "id": "IZuHlu9SDlun"
      }
    },
    {
      "cell_type": "code",
      "source": [
        "\n",
        "def split_window(self, features):\n",
        "\n",
        "  inputs = features[:, self.input_slice, :]   # : before input_slice says selecting every rows , : after slice says take the third dimension too\n",
        "  labels = features[:, self.labels_slice, :]\n",
        "\n",
        "  if self.label_columns is not None:\n",
        "    labels = tf.stack(\n",
        "        [labels[:, :, self.column_indices[name]] for name in self.label_columns],\n",
        "        axis=-1)\n",
        "\n",
        "  # Slicing doesn't preserve static shape information, so set the shapes\n",
        "  # manually. This way the `tf.data.Datasets` are easier to inspect.\n",
        "\n",
        "  inputs.set_shape([None, self.input_width, None])\n",
        "  labels.set_shape([None, self.label_width, None])\n",
        "\n",
        "  return inputs, labels\n",
        "\n",
        "WindowGenerator.split_window = split_window  # split_window user defined func assigned to method of WindowGenerator class"
      ],
      "metadata": {
        "id": "xzSeQaJ93JjB"
      },
      "execution_count": null,
      "outputs": []
    },
    {
      "cell_type": "markdown",
      "source": [
        "### ***-Plot***"
      ],
      "metadata": {
        "id": "YTZnFJ1eYY1u"
      }
    },
    {
      "cell_type": "code",
      "source": [
        "def plot(self, model=None, plot_col='Appliances', max_subplots=1):\n",
        "  inputs, labels = self.example\n",
        "  plt.figure(figsize=(12, 8))\n",
        "  plot_col_index = self.column_indices[plot_col]\n",
        "  # n = 13994\n",
        "  max_n = 1\n",
        "  plt.subplot(max_n, 1, n+1)\n",
        "  plt.ylabel(f'{plot_col} [normed]')\n",
        "  plt.plot(self.input_indices, inputs[n, :, plot_col_index],\n",
        "            label='Inputs', marker='.', zorder=-10)\n",
        "\n",
        "  if self.label_columns:\n",
        "    label_col_index = self.label_columns_indices.get(plot_col, None)\n",
        "  else:\n",
        "    label_col_index = plot_col_index\n",
        "\n",
        "  if label_col_index is None:\n",
        "    return\n",
        "\n",
        "  plt.scatter(self.label_indices, labels[n, :, label_col_index],\n",
        "              edgecolors='k', label='Labels', c='#2ca02c', s=64)\n",
        "  if model is not None:\n",
        "    predictions = model(inputs)\n",
        "    plt.scatter(self.label_indices, predictions[n, :, label_col_index],\n",
        "                marker='X', edgecolors='k', label='Predictions',\n",
        "                c='#ff7f0e', s=64)\n",
        "\n",
        "  if n == 0:\n",
        "    plt.legend()\n",
        "\n",
        "  plt.xlabel('Time [h]')\n",
        "\n",
        "WindowGenerator.plot = plot"
      ],
      "metadata": {
        "id": "OiQfDfcFYcmu"
      },
      "execution_count": null,
      "outputs": []
    },
    {
      "cell_type": "markdown",
      "source": [
        "### ***-Creating tf.data.Datasets***"
      ],
      "metadata": {
        "id": "IRrbYtSXGfds"
      }
    },
    {
      "cell_type": "code",
      "source": [
        "def make_dataset(self, data):\n",
        "  data = np.array(data, dtype=np.float32)\n",
        "  ds = tf.keras.utils.timeseries_dataset_from_array(\n",
        "      data=data,\n",
        "      targets=None,\n",
        "      sequence_length=self.total_window_size,\n",
        "      sequence_stride=1,   # It determines how many time steps to skip between two consecutive sequences in the dataset.\n",
        "      shuffle=True,\n",
        "      batch_size=8,)\n",
        "  ds = ds.map(self.split_window)\n",
        "# By using map(self.split_window), the split_window function is applied to each element of the dataset,\n",
        "# resulting in a new dataset where each element has been transformed into a tuple of inputs and labels.\n",
        "\n",
        "  return ds\n",
        "\n",
        "WindowGenerator.make_dataset = make_dataset"
      ],
      "metadata": {
        "id": "JZwMaZZ4Ghjj"
      },
      "execution_count": null,
      "outputs": []
    },
    {
      "cell_type": "code",
      "source": [
        "@property\n",
        "def train(self):\n",
        "  return self.make_dataset(self.train_df)\n",
        "\n",
        "@property\n",
        "def val(self):\n",
        "  return self.make_dataset(self.val_df)\n",
        "\n",
        "@property\n",
        "def test(self):\n",
        "  return self.make_dataset(self.test_df)\n",
        "\n",
        "@property\n",
        "def example(self):\n",
        "  '''Get and cache an example batch of `inputs, labels` for plotting.'''\n",
        "  result = getattr(self, '_example', None)\n",
        "  if result is None:\n",
        "    # No example batch was found, so get one from the `.train` dataset\n",
        "    result = next(iter(self.train))\n",
        "    # And cache it for next time\n",
        "    self._example = result\n",
        "  return result\n",
        "\n",
        "WindowGenerator.train = train\n",
        "WindowGenerator.val = val\n",
        "WindowGenerator.test = test\n",
        "WindowGenerator.example = example"
      ],
      "metadata": {
        "id": "aflcVgibIj9M"
      },
      "execution_count": null,
      "outputs": []
    },
    {
      "cell_type": "markdown",
      "source": [
        "## Baseline\n",
        "- Before building a trainable model it would be good to have a performance baseline as a point for comparison with the later more complicated models."
      ],
      "metadata": {
        "id": "-EdEHzWaSDEl"
      }
    },
    {
      "cell_type": "code",
      "source": [
        "class Baseline(tf.keras.Model):\n",
        "  def __init__(self, label_index=None):\n",
        "    super().__init__()\n",
        "    self.label_index = label_index\n",
        "\n",
        "  def call(self, inputs):\n",
        "    if self.label_index is None:\n",
        "      return inputs\n",
        "    result = inputs[:, :, self.label_index]\n",
        "    return result[:, :, tf.newaxis]\n",
        "\n",
        "baseline = Baseline(label_index=column_indices['Appliances'])\n",
        "\n",
        "baseline.compile(loss=tf.keras.losses.MeanSquaredError(),\n",
        "                 metrics=[tf.keras.metrics.MeanAbsoluteError()])\n"
      ],
      "metadata": {
        "id": "nwT7AHLRPSMY"
      },
      "execution_count": null,
      "outputs": []
    },
    {
      "cell_type": "markdown",
      "source": [
        "## Single step window\n",
        "\n",
        "- The simplest model predicts a single feature's value —>> 1 time step (one hour) into the future based only on the current conditions."
      ],
      "metadata": {
        "id": "FzXB1tRyNYP6"
      }
    },
    {
      "cell_type": "code",
      "source": [
        "single_step_window = WindowGenerator(\n",
        "    input_width=1, label_width=1, shift=1,)\n",
        "single_step_window"
      ],
      "metadata": {
        "colab": {
          "base_uri": "https://localhost:8080/"
        },
        "id": "rVfnjXxhK39O",
        "outputId": "ff3032e3-0ace-4056-e004-73679a35550d"
      },
      "execution_count": null,
      "outputs": [
        {
          "output_type": "execute_result",
          "data": {
            "text/plain": [
              "Total window size: 2\n",
              "Input indices: [0]\n",
              "Label indices: [1]\n",
              "Label column name(s): ['Appliances']"
            ]
          },
          "metadata": {},
          "execution_count": 13
        }
      ]
    },
    {
      "cell_type": "code",
      "source": [
        "for example_inputs, example_labels in single_step_window.train.take(1):\n",
        "  # print(example_inputs)\n",
        "  print(f'Inputs shape (batch, time, features): {example_inputs.shape}')\n",
        "  print(f'Labels shape (batch, time, features): {example_labels.shape}')"
      ],
      "metadata": {
        "id": "qRZbT2bmNcdd",
        "colab": {
          "base_uri": "https://localhost:8080/"
        },
        "outputId": "64962647-1fe1-4744-e262-bde083de914e"
      },
      "execution_count": null,
      "outputs": [
        {
          "output_type": "stream",
          "name": "stdout",
          "text": [
            "Inputs shape (batch, time, features): (8, 1, 26)\n",
            "Labels shape (batch, time, features): (8, 1, 1)\n"
          ]
        }
      ]
    },
    {
      "cell_type": "markdown",
      "source": [
        "## Wide Window\n",
        "- Taking 24 hours of past data and predicts 24hours into future"
      ],
      "metadata": {
        "id": "RcU_Xi0UgaMe"
      }
    },
    {
      "cell_type": "code",
      "source": [
        "wide_window = WindowGenerator(\n",
        "    input_width=24, label_width=1, shift=1,)\n",
        "\n",
        "wide_window"
      ],
      "metadata": {
        "colab": {
          "base_uri": "https://localhost:8080/"
        },
        "id": "fPp70GmUTdLh",
        "outputId": "067c36b3-8a1b-42e2-9f10-f8ac7133011e"
      },
      "execution_count": null,
      "outputs": [
        {
          "output_type": "execute_result",
          "data": {
            "text/plain": [
              "Total window size: 25\n",
              "Input indices: [ 0  1  2  3  4  5  6  7  8  9 10 11 12 13 14 15 16 17 18 19 20 21 22 23]\n",
              "Label indices: [24]\n",
              "Label column name(s): ['Appliances']"
            ]
          },
          "metadata": {},
          "execution_count": 48
        }
      ]
    },
    {
      "cell_type": "code",
      "source": [
        "print('Input shape:', wide_window.example[0].shape)\n",
        "print('Output shape:', baseline(wide_window.example[0]).shape)"
      ],
      "metadata": {
        "colab": {
          "base_uri": "https://localhost:8080/"
        },
        "id": "ZlKon-DnU5vk",
        "outputId": "497ad2e5-b9c3-4a2c-fe03-757af15b6443"
      },
      "execution_count": null,
      "outputs": [
        {
          "output_type": "stream",
          "name": "stdout",
          "text": [
            "Input shape: (8, 24, 26)\n",
            "Output shape: (8, 24, 1)\n"
          ]
        }
      ]
    },
    {
      "cell_type": "code",
      "source": [
        "wide_window.plot(baseline)"
      ],
      "metadata": {
        "id": "On9qEuVrmYE8"
      },
      "execution_count": null,
      "outputs": []
    },
    {
      "cell_type": "markdown",
      "source": [
        "#### Variable for storing performance of validation and testing"
      ],
      "metadata": {
        "id": "a6t0APs0c-zA"
      }
    },
    {
      "cell_type": "code",
      "source": [
        "val_performance = {} # performance tested on val ds\n",
        "performance = {}  # performance tested on testing ds\n",
        "\n",
        "val_performance['Baseline'] = baseline.evaluate(wide_window.val)\n",
        "performance['Baseline'] = baseline.evaluate(wide_window.test, verbose=0)"
      ],
      "metadata": {
        "colab": {
          "base_uri": "https://localhost:8080/"
        },
        "id": "DEVTzIBHSQ1c",
        "outputId": "b0c9b457-7022-4c02-a468-795596aa95fc"
      },
      "execution_count": null,
      "outputs": [
        {
          "output_type": "stream",
          "name": "stdout",
          "text": [
            "491/491 [==============================] - 2s 3ms/step - loss: 0.3781 - mean_absolute_error: 0.2405\n"
          ]
        }
      ]
    },
    {
      "cell_type": "markdown",
      "source": [
        "## Training Procedure"
      ],
      "metadata": {
        "id": "R4ZhU-iMav5W"
      }
    },
    {
      "cell_type": "code",
      "source": [
        "MAX_EPOCHS = 10\n",
        "\n",
        "def compile_and_fit(model, window, patience=2):\n",
        "  early_stopping = tf.keras.callbacks.EarlyStopping(monitor='val_loss',\n",
        "                                                    patience=patience,\n",
        "                                                    mode='min')\n",
        "\n",
        "  model.compile(loss=tf.keras.losses.MeanSquaredError(),\n",
        "                optimizer=tf.keras.optimizers.Adam(),\n",
        "                metrics=[tf.keras.metrics.MeanAbsoluteError() , tf.keras.metrics.MeanSquaredError()])\n",
        "\n",
        "  history = model.fit(window.train, epochs=MAX_EPOCHS,\n",
        "                      validation_data=window.val,\n",
        "                      callbacks=[early_stopping])\n",
        "  return history"
      ],
      "metadata": {
        "id": "QIhaqlZFZ12e"
      },
      "execution_count": null,
      "outputs": []
    },
    {
      "cell_type": "markdown",
      "source": [
        "### RNN"
      ],
      "metadata": {
        "id": "U20_16WQ9dty"
      }
    },
    {
      "cell_type": "code",
      "source": [
        "rnn = Sequential()\n",
        "rnn.add(SimpleRNN(64 , return_sequences=True))\n",
        "rnn.add(Dense(1))"
      ],
      "metadata": {
        "id": "IfuH_XMB9dBY"
      },
      "execution_count": null,
      "outputs": []
    },
    {
      "cell_type": "markdown",
      "source": [
        "### LSTM"
      ],
      "metadata": {
        "id": "sFXl8DHf9Hx8"
      }
    },
    {
      "cell_type": "code",
      "source": [
        "lstm_model = Sequential()\n",
        "lstm_model.add(LSTM(64, return_sequences=True))\n",
        "lstm_model.add(Dense(1))"
      ],
      "metadata": {
        "id": "69YDm9Qe9HZT"
      },
      "execution_count": null,
      "outputs": []
    },
    {
      "cell_type": "markdown",
      "source": [
        "### Bi-LSTM"
      ],
      "metadata": {
        "id": "VA9-3kWZwxOp"
      }
    },
    {
      "cell_type": "code",
      "source": [
        "model = Sequential()\n",
        "model.add(Bidirectional(LSTM(10, return_sequences=True)))\n",
        "model.add(Bidirectional(LSTM(5)))\n",
        "model.add(Dense(1))"
      ],
      "metadata": {
        "id": "1I4VnTtEww5s"
      },
      "execution_count": null,
      "outputs": []
    },
    {
      "cell_type": "markdown",
      "source": [
        "### GRU"
      ],
      "metadata": {
        "id": "OObnS7wly1VX"
      }
    },
    {
      "cell_type": "code",
      "source": [
        "gru_model = Sequential()\n",
        "gru_model.add(GRU(64,return_sequences=True))\n",
        "gru_model.add(Dense(1))"
      ],
      "metadata": {
        "id": "0G3wVvIcy3VW"
      },
      "execution_count": null,
      "outputs": []
    },
    {
      "cell_type": "markdown",
      "source": [
        "### Bi-GRU"
      ],
      "metadata": {
        "id": "6UQ09oig_0SE"
      }
    },
    {
      "cell_type": "code",
      "source": [
        "bi_gru = Sequential()\n",
        "bi_gru.add(Bidirectional(GRU(10, return_sequences=True)))\n",
        "bi_gru.add(Dense(1))"
      ],
      "metadata": {
        "id": "MqegJMdI_2Wu"
      },
      "execution_count": null,
      "outputs": []
    },
    {
      "cell_type": "markdown",
      "source": [
        "--------------------------------------------------------------------------------"
      ],
      "metadata": {
        "id": "48uuatoh3GdJ"
      }
    },
    {
      "cell_type": "markdown",
      "source": [
        "## Evaluation Procedure"
      ],
      "metadata": {
        "id": "Hkfmt0HTjpfZ"
      }
    },
    {
      "cell_type": "markdown",
      "source": [
        "### Evaluating RNN"
      ],
      "metadata": {
        "id": "2omc93cx-4Sf"
      }
    },
    {
      "cell_type": "code",
      "source": [
        "history_rnn = compile_and_fit(rnn , wide_window)\n",
        "\n",
        "IPython.display.clear_output()\n",
        "val_performance['RNN'] = rnn.evaluate(wide_window.val)\n",
        "performance['RNN'] = rnn.evaluate(wide_window.test, verbose=0)"
      ],
      "metadata": {
        "id": "LktknW21_Ggv",
        "colab": {
          "base_uri": "https://localhost:8080/"
        },
        "outputId": "19f9a3b5-cb24-42f6-b9cd-5924bd205a38"
      },
      "execution_count": null,
      "outputs": [
        {
          "output_type": "stream",
          "name": "stdout",
          "text": [
            "491/491 [==============================] - 2s 3ms/step - loss: 0.6998 - mean_absolute_error: 0.4908 - mean_squared_error: 0.6998\n"
          ]
        }
      ]
    },
    {
      "cell_type": "code",
      "source": [
        "print('Input shape:', wide_window.example[0].shape)\n",
        "print('Output shape:', rnn(wide_window.example[0]).shape)"
      ],
      "metadata": {
        "colab": {
          "base_uri": "https://localhost:8080/"
        },
        "outputId": "60338c72-3314-43de-afd2-d9f889b7cfd7",
        "id": "m2Y5E8xj_kKy"
      },
      "execution_count": null,
      "outputs": [
        {
          "output_type": "stream",
          "name": "stdout",
          "text": [
            "Input shape: (8, 24, 26)\n",
            "Output shape: (8, 24, 1)\n"
          ]
        }
      ]
    },
    {
      "cell_type": "markdown",
      "source": [
        "### Evaluating lstm model"
      ],
      "metadata": {
        "id": "Ov9I5kqZkVdY"
      }
    },
    {
      "cell_type": "code",
      "source": [
        "history_lstm = compile_and_fit(lstm_model, wide_window)\n",
        "\n",
        "IPython.display.clear_output()\n",
        "val_performance['LSTM'] = lstm_model.evaluate(wide_window.val)\n",
        "performance['LSTM'] = lstm_model.evaluate(wide_window.test, verbose=0)"
      ],
      "metadata": {
        "id": "CVOXHePlqR5K",
        "colab": {
          "base_uri": "https://localhost:8080/"
        },
        "outputId": "21e4ffbc-7f88-4e6c-f79a-ac91a7f9970c"
      },
      "execution_count": null,
      "outputs": [
        {
          "output_type": "stream",
          "name": "stdout",
          "text": [
            "491/491 [==============================] - 2s 5ms/step - loss: 0.4232 - mean_absolute_percentage_error: 307.2611\n"
          ]
        }
      ]
    },
    {
      "cell_type": "code",
      "source": [
        "print('Input shape:', wide_window.example[0].shape)\n",
        "print('Output shape:', lstm_model(wide_window.example[0]).shape)"
      ],
      "metadata": {
        "colab": {
          "base_uri": "https://localhost:8080/"
        },
        "id": "iSKQ8Dm5qGKx",
        "outputId": "58a29d6e-2ca9-45e9-b7db-bcd9d1768b54"
      },
      "execution_count": null,
      "outputs": [
        {
          "output_type": "stream",
          "name": "stdout",
          "text": [
            "Input shape: (8, 24, 26)\n",
            "Output shape: (8, 24, 1)\n"
          ]
        }
      ]
    },
    {
      "cell_type": "markdown",
      "source": [
        "### Evaluating Bi-LSTM model"
      ],
      "metadata": {
        "id": "JWOkXMUrx6U4"
      }
    },
    {
      "cell_type": "code",
      "source": [
        "history_bilstm = compile_and_fit(model, wide_window)\n",
        "\n",
        "IPython.display.clear_output()\n",
        "val_performance['Bi-LSTM'] = model.evaluate(wide_window.val)\n",
        "performance['Bi-LSTM'] = model.evaluate(wide_window.test, verbose=0)"
      ],
      "metadata": {
        "colab": {
          "base_uri": "https://localhost:8080/"
        },
        "id": "Jw_r4D9ex-4B",
        "outputId": "0849194f-2432-4ec9-a129-cb82c77e110a"
      },
      "execution_count": null,
      "outputs": [
        {
          "output_type": "stream",
          "name": "stdout",
          "text": [
            "491/491 [==============================] - 4s 8ms/step - loss: 0.4721 - mean_absolute_percentage_error: 218.0604\n"
          ]
        }
      ]
    },
    {
      "cell_type": "code",
      "source": [
        "print('Input shape:', wide_window.example[0].shape)\n",
        "print('Output shape:', model(wide_window.example[0]).shape)"
      ],
      "metadata": {
        "colab": {
          "base_uri": "https://localhost:8080/"
        },
        "id": "t__EuWXqyDxL",
        "outputId": "3118bc93-1b81-433f-df1f-07d1215df373"
      },
      "execution_count": null,
      "outputs": [
        {
          "output_type": "stream",
          "name": "stdout",
          "text": [
            "Input shape: (8, 24, 26)\n",
            "Output shape: (8, 1)\n"
          ]
        }
      ]
    },
    {
      "cell_type": "markdown",
      "source": [
        "### Evaluating GRU model"
      ],
      "metadata": {
        "id": "WXUljHotzYU2"
      }
    },
    {
      "cell_type": "code",
      "source": [
        "history_gru = compile_and_fit(gru_model, wide_window)\n",
        "\n",
        "IPython.display.clear_output()\n",
        "val_performance['GRU'] = gru_model.evaluate(wide_window.val)\n",
        "performance['GRU'] = gru_model.evaluate(wide_window.test, verbose=0)"
      ],
      "metadata": {
        "id": "J1A8qd9dzYU3",
        "colab": {
          "base_uri": "https://localhost:8080/"
        },
        "outputId": "3ecd4c9a-c372-4f81-bf46-ae9a94158da8"
      },
      "execution_count": null,
      "outputs": [
        {
          "output_type": "stream",
          "name": "stdout",
          "text": [
            "491/491 [==============================] - 2s 5ms/step - loss: 0.4288 - mean_absolute_percentage_error: 314.0956\n"
          ]
        }
      ]
    },
    {
      "cell_type": "code",
      "source": [
        "print('Input shape:', wide_window.example[0].shape)\n",
        "print('Output shape:', gru_model(wide_window.example[0]).shape)"
      ],
      "metadata": {
        "colab": {
          "base_uri": "https://localhost:8080/"
        },
        "id": "-v3mtA-czYU4",
        "outputId": "32ff0238-a7c5-4359-df96-5e2e522dbee2"
      },
      "execution_count": null,
      "outputs": [
        {
          "output_type": "stream",
          "name": "stdout",
          "text": [
            "Input shape: (8, 24, 26)\n",
            "Output shape: (8, 24, 1)\n"
          ]
        }
      ]
    },
    {
      "cell_type": "markdown",
      "source": [
        "### Evaluating Bi-GRU"
      ],
      "metadata": {
        "id": "iPKmqmI1_tyh"
      }
    },
    {
      "cell_type": "code",
      "source": [
        "history_bigru = compile_and_fit(bi_gru, wide_window)\n",
        "\n",
        "IPython.display.clear_output()\n",
        "val_performance['Bi-GRU'] = bi_gru.evaluate(wide_window.val)\n",
        "performance['Bi-GRU'] = bi_gru.evaluate(wide_window.test, verbose=0)"
      ],
      "metadata": {
        "colab": {
          "base_uri": "https://localhost:8080/"
        },
        "outputId": "093555b9-e104-47d7-ea25-84bad1219e6a",
        "id": "UbcS2p37b1CW"
      },
      "execution_count": null,
      "outputs": [
        {
          "output_type": "stream",
          "name": "stdout",
          "text": [
            "491/491 [==============================] - 3s 6ms/step - loss: 0.0164 - mean_absolute_percentage_error: 36.1946\n"
          ]
        }
      ]
    },
    {
      "cell_type": "code",
      "source": [
        "print('Input shape:', wide_window.example[0].shape)\n",
        "print('Output shape:', bi_gru(wide_window.example[0]).shape)"
      ],
      "metadata": {
        "colab": {
          "base_uri": "https://localhost:8080/"
        },
        "outputId": "fcc456dc-53cc-4386-dff4-86bf25631172",
        "id": "GrvjChs2b1CX"
      },
      "execution_count": null,
      "outputs": [
        {
          "output_type": "stream",
          "name": "stdout",
          "text": [
            "Input shape: (8, 24, 26)\n",
            "Output shape: (8, 24, 1)\n"
          ]
        }
      ]
    },
    {
      "cell_type": "markdown",
      "source": [
        "## Performance"
      ],
      "metadata": {
        "id": "AWJIv711thl_"
      }
    },
    {
      "cell_type": "code",
      "source": [
        "wide_window.plot(gru_model)"
      ],
      "metadata": {
        "id": "W1lbj6yoE5TJ"
      },
      "execution_count": null,
      "outputs": []
    },
    {
      "cell_type": "code",
      "source": [
        "x = np.arange(len(performance))\n",
        "width = 0.3\n",
        "metric_name = 'mean_absolute_error'\n",
        "metric_index = lstm_model.metrics_names.index('mean_absolute_error')\n",
        "val_mae = [v[metric_index] for v in val_performance.values()]\n",
        "test_mae = [v[metric_index] for v in performance.values()]\n",
        "\n",
        "plt.ylabel('mean_absolute_error [Appliances, normalized]')\n",
        "plt.bar(x - 0.17, val_mae, width, label='Validation')\n",
        "plt.bar(x + 0.17, test_mae, width, label='Test')\n",
        "plt.xticks(ticks=x, labels=performance.keys(),\n",
        "           rotation=45)\n",
        "_ = plt.legend()"
      ],
      "metadata": {
        "id": "dUE999dQti-p",
        "colab": {
          "base_uri": "https://localhost:8080/",
          "height": 234
        },
        "outputId": "6bb69946-0859-45cb-9ee4-010ae19edda1"
      },
      "execution_count": null,
      "outputs": [
        {
          "output_type": "error",
          "ename": "ValueError",
          "evalue": "ignored",
          "traceback": [
            "\u001b[0;31m---------------------------------------------------------------------------\u001b[0m",
            "\u001b[0;31mValueError\u001b[0m                                Traceback (most recent call last)",
            "\u001b[0;32m<ipython-input-153-dfe34a3f711d>\u001b[0m in \u001b[0;36m<cell line: 4>\u001b[0;34m()\u001b[0m\n\u001b[1;32m      2\u001b[0m \u001b[0mwidth\u001b[0m \u001b[0;34m=\u001b[0m \u001b[0;36m0.3\u001b[0m\u001b[0;34m\u001b[0m\u001b[0;34m\u001b[0m\u001b[0m\n\u001b[1;32m      3\u001b[0m \u001b[0mmetric_name\u001b[0m \u001b[0;34m=\u001b[0m \u001b[0;34m'mean_absolute_error'\u001b[0m\u001b[0;34m\u001b[0m\u001b[0;34m\u001b[0m\u001b[0m\n\u001b[0;32m----> 4\u001b[0;31m \u001b[0mmetric_index\u001b[0m \u001b[0;34m=\u001b[0m \u001b[0mlstm_model\u001b[0m\u001b[0;34m.\u001b[0m\u001b[0mmetrics_names\u001b[0m\u001b[0;34m.\u001b[0m\u001b[0mindex\u001b[0m\u001b[0;34m(\u001b[0m\u001b[0;34m'mean_absolute_error'\u001b[0m\u001b[0;34m)\u001b[0m\u001b[0;34m\u001b[0m\u001b[0;34m\u001b[0m\u001b[0m\n\u001b[0m\u001b[1;32m      5\u001b[0m \u001b[0mval_mae\u001b[0m \u001b[0;34m=\u001b[0m \u001b[0;34m[\u001b[0m\u001b[0mv\u001b[0m\u001b[0;34m[\u001b[0m\u001b[0mmetric_index\u001b[0m\u001b[0;34m]\u001b[0m \u001b[0;32mfor\u001b[0m \u001b[0mv\u001b[0m \u001b[0;32min\u001b[0m \u001b[0mval_performance\u001b[0m\u001b[0;34m.\u001b[0m\u001b[0mvalues\u001b[0m\u001b[0;34m(\u001b[0m\u001b[0;34m)\u001b[0m\u001b[0;34m]\u001b[0m\u001b[0;34m\u001b[0m\u001b[0;34m\u001b[0m\u001b[0m\n\u001b[1;32m      6\u001b[0m \u001b[0mtest_mae\u001b[0m \u001b[0;34m=\u001b[0m \u001b[0;34m[\u001b[0m\u001b[0mv\u001b[0m\u001b[0;34m[\u001b[0m\u001b[0mmetric_index\u001b[0m\u001b[0;34m]\u001b[0m \u001b[0;32mfor\u001b[0m \u001b[0mv\u001b[0m \u001b[0;32min\u001b[0m \u001b[0mperformance\u001b[0m\u001b[0;34m.\u001b[0m\u001b[0mvalues\u001b[0m\u001b[0;34m(\u001b[0m\u001b[0;34m)\u001b[0m\u001b[0;34m]\u001b[0m\u001b[0;34m\u001b[0m\u001b[0;34m\u001b[0m\u001b[0m\n",
            "\u001b[0;31mValueError\u001b[0m: 'mean_absolute_error' is not in list"
          ]
        }
      ]
    },
    {
      "cell_type": "code",
      "source": [
        "for name, value in performance.items():\n",
        "  print(f'{name:12s}: {value[1]:0.4f}')"
      ],
      "metadata": {
        "colab": {
          "base_uri": "https://localhost:8080/"
        },
        "id": "aCaHJo5Etl60",
        "outputId": "c707c7b4-443f-4718-c0ba-e4d9e8419c9e"
      },
      "execution_count": null,
      "outputs": [
        {
          "output_type": "stream",
          "name": "stdout",
          "text": [
            "Baseline    : 0.2581\n",
            "RNN         : 309.1350\n",
            "LSTM        : 326.0513\n",
            "Bi-LSTM     : 219.3264\n",
            "GRU         : 323.6892\n",
            "Bi-GRU      : 44.0389\n"
          ]
        }
      ]
    },
    {
      "cell_type": "markdown",
      "source": [
        "### Graphical Representation"
      ],
      "metadata": {
        "id": "msX0OChjE9Rs"
      }
    },
    {
      "cell_type": "code",
      "source": [
        "predicted = lstm_model.predict(wide_window.val)"
      ],
      "metadata": {
        "colab": {
          "base_uri": "https://localhost:8080/"
        },
        "id": "Voh_V4SurKLq",
        "outputId": "b6247657-dec4-42e5-ba0a-fabdbd38da9d"
      },
      "execution_count": null,
      "outputs": [
        {
          "output_type": "stream",
          "name": "stdout",
          "text": [
            "491/491 [==============================] - 2s 5ms/step\n"
          ]
        }
      ]
    },
    {
      "cell_type": "code",
      "source": [
        "val_ds = wide_window.val\n",
        "dataset_list = list(val_ds)"
      ],
      "metadata": {
        "id": "gjenQLCXrNH4"
      },
      "execution_count": null,
      "outputs": []
    },
    {
      "cell_type": "code",
      "source": [
        "actual = np.array([])\n",
        "\n",
        "count = 0\n",
        "for i in range(len(dataset_list)):\n",
        "  for j in range(len(dataset_list[i][1])):\n",
        "    actual = np.insert(actual ,count, dataset_list[i][1][j])\n",
        "  count+=1"
      ],
      "metadata": {
        "id": "koReTWv6rhTa"
      },
      "execution_count": null,
      "outputs": []
    },
    {
      "cell_type": "code",
      "source": [
        "actual = actual.tolist()"
      ],
      "metadata": {
        "id": "VULtm0Jfrk0o"
      },
      "execution_count": null,
      "outputs": []
    },
    {
      "cell_type": "code",
      "source": [
        "print(\"Dataset contains \", len(dataset_list) , \" arrays\")\n",
        "print(\"In every array it contains \" ,len(dataset_list[0]) , \" elements , Input + Label \")\n",
        "print(\"In both the elements there are \" , len(dataset_list[0][0]) , \" & \" , len(dataset_list[0][1]) , \" arrays\")\n",
        "print(\"Inside the 32 arrays in Input element there is array of \" , len(dataset_list[0][0][0]) , \" elements , which signifies That many hours of previous data is used as input\")\n",
        "print(\"Inside the 32 arrays in Label element there is array of \" , len(dataset_list[0][1][0]) , \" element , which signifies That many hours of prediction is done\")\n",
        "print(\"Inside the 24 arrays in Input element in that each array consists of \" , len(dataset_list[0][0][0][0]) , \" elements , which signifies number of features\")\n",
        "\n",
        "print(\"\\nLabel can be accessed by \" , dataset_list[0][1][0][0][0]) # using 5 dimensions"
      ],
      "metadata": {
        "id": "ehOlzPKDpnwR",
        "colab": {
          "base_uri": "https://localhost:8080/"
        },
        "outputId": "121c9a9f-1cb3-4dca-dfe5-6e72f007a1ff"
      },
      "execution_count": null,
      "outputs": [
        {
          "output_type": "stream",
          "name": "stdout",
          "text": [
            "Dataset contains  491  arrays\n",
            "In every array it contains  2  elements , Input + Label \n",
            "In both the elements there are  8  &  8  arrays\n",
            "Inside the 32 arrays in Input element there is array of  24  elements , which signifies That many hours of previous data is used as input\n",
            "Inside the 32 arrays in Label element there is array of  1  element , which signifies That many hours of prediction is done\n",
            "Inside the 24 arrays in Input element in that each array consists of  26  elements , which signifies number of features\n",
            "\n",
            "Label can be accessed by  tf.Tensor(-0.3628686, shape=(), dtype=float32)\n"
          ]
        }
      ]
    },
    {
      "cell_type": "code",
      "source": [
        "actual[:1000]"
      ],
      "metadata": {
        "id": "IzTeUf-vKEK6"
      },
      "execution_count": null,
      "outputs": []
    },
    {
      "cell_type": "code",
      "source": [
        "len(actual)\n",
        "# actual"
      ],
      "metadata": {
        "colab": {
          "base_uri": "https://localhost:8080/"
        },
        "id": "9zbnmlBtrsSZ",
        "outputId": "6aedcee5-2bde-4a69-e317-4060b0fd2a67"
      },
      "execution_count": null,
      "outputs": [
        {
          "output_type": "execute_result",
          "data": {
            "text/plain": [
              "3923"
            ]
          },
          "metadata": {},
          "execution_count": 142
        }
      ]
    },
    {
      "cell_type": "code",
      "source": [
        "# len(predicted)\n",
        "predicted"
      ],
      "metadata": {
        "colab": {
          "base_uri": "https://localhost:8080/"
        },
        "id": "OZQFaDTSrtoB",
        "outputId": "395f6780-93b1-4ab9-feb7-7f5307b5820f"
      },
      "execution_count": null,
      "outputs": [
        {
          "output_type": "execute_result",
          "data": {
            "text/plain": [
              "3923"
            ]
          },
          "metadata": {},
          "execution_count": 111
        }
      ]
    },
    {
      "cell_type": "markdown",
      "source": [
        "#### Line Plot"
      ],
      "metadata": {
        "id": "m2gNzpJCu8BE"
      }
    },
    {
      "cell_type": "code",
      "source": [
        "actual_t = actual[:200]\n",
        "predicted_t = predicted[:200]\n",
        "predicted_t = predicted_t[:,0,0]"
      ],
      "metadata": {
        "id": "d6GOmAqDwhN1"
      },
      "execution_count": null,
      "outputs": []
    },
    {
      "cell_type": "code",
      "source": [
        "x=np.linspace(1,20,200)\n",
        "\n",
        "# Plot\n",
        "plt.plot(x,predicted_t)\n",
        "plt.plot(x, actual_t)\n",
        "\n",
        "# Decorate\n",
        "plt.xlabel('x')\n",
        "plt.title('Actual and predicted')\n",
        "plt.xlim(1,20.1)\n",
        "plt.ylim(-2.5 ,7.2)\n",
        "plt.legend([\"Predicted\" , \"Actual\"])\n",
        "plt.tight_layout()\n",
        "plt.show()"
      ],
      "metadata": {
        "colab": {
          "base_uri": "https://localhost:8080/",
          "height": 607
        },
        "id": "9RL43Bjrru1T",
        "outputId": "018b4477-9cfd-4642-afdf-384094acf36f"
      },
      "execution_count": null,
      "outputs": [
        {
          "output_type": "display_data",
          "data": {
            "text/plain": [
              "<Figure size 800x600 with 1 Axes>"
            ],
            "image/png": "[encoded data removed]"
          },
          "metadata": {}
        }
      ]
    },
    {
      "cell_type": "markdown",
      "source": [
        "#### Scatter plot"
      ],
      "metadata": {
        "id": "LfTg27rou_WL"
      }
    },
    {
      "cell_type": "code",
      "source": [
        "fig, ax = plt.subplots()\n",
        "ax.scatter(actual_t, predicted_t, edgecolors=(0, 0, 0))\n",
        "ax.plot([min(actual), max(actual)], [min(predicted[:,0,0]), max(predicted[:,0,0])], 'k--', lw=4)\n",
        "ax.set_xlabel('Measured')\n",
        "ax.set_ylabel('Predicted')\n",
        "plt.legend([\"Actual\" , \"Predicted\"])\n",
        "plt.tight_layout()\n",
        "plt.show()"
      ],
      "metadata": {
        "colab": {
          "base_uri": "https://localhost:8080/",
          "height": 607
        },
        "id": "koPk8xWgr0SN",
        "outputId": "61383331-b32a-427a-d799-5b916f685b36"
      },
      "execution_count": null,
      "outputs": [
        {
          "output_type": "display_data",
          "data": {
            "text/plain": [
              "<Figure size 800x600 with 1 Axes>"
            ],
            "image/png": "[encoded data removed]"
          },
          "metadata": {}
        }
      ]
    },
    {
      "cell_type": "code",
      "source": [
        "plt.scatter(history.history['mean_absolute_percentage_error'] , history.history['val_mean_absolute_percentage_error'])"
      ],
      "metadata": {
        "colab": {
          "base_uri": "https://localhost:8080/",
          "height": 543
        },
        "id": "5UA9EGYftBDA",
        "outputId": "e3ef7967-88ce-4276-ab13-643bbca0f777"
      },
      "execution_count": null,
      "outputs": [
        {
          "output_type": "execute_result",
          "data": {
            "text/plain": [
              "<matplotlib.collections.PathCollection at 0x7f6274aeb640>"
            ]
          },
          "metadata": {},
          "execution_count": 150
        },
        {
          "output_type": "display_data",
          "data": {
            "text/plain": [
              "<Figure size 800x600 with 1 Axes>"
            ],
            "image/png": "[encoded data removed]"
          },
          "metadata": {}
        }
      ]
    },
    {
      "cell_type": "code",
      "source": [],
      "metadata": {
        "id": "CxTarObaLQi4"
      },
      "execution_count": null,
      "outputs": []
    }
  ]
}