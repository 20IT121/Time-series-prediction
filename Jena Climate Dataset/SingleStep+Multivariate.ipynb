{
  "nbformat": 4,
  "nbformat_minor": 0,
  "metadata": {
    "colab": {
      "provenance": [],
      "toc_visible": true
    },
    "kernelspec": {
      "name": "python3",
      "display_name": "Python 3"
    },
    "language_info": {
      "name": "python"
    }
  },
  "cells": [
    {
      "cell_type": "markdown",
      "source": [
        "### Setup"
      ],
      "metadata": {
        "id": "hT9--fEWBS2v"
      }
    },
    {
      "cell_type": "code",
      "execution_count": null,
      "metadata": {
        "id": "PRNAMN5QBKD5"
      },
      "outputs": [],
      "source": [
        "import os\n",
        "import datetime\n",
        "\n",
        "import IPython\n",
        "import IPython.display\n",
        "import matplotlib as mpl\n",
        "import matplotlib.pyplot as plt\n",
        "import numpy as np\n",
        "import pandas as pd\n",
        "import seaborn as sns\n",
        "import tensorflow as tf\n",
        "from tensorflow.keras.models import Sequential\n",
        "from tensorflow.keras.layers import Bidirectional, LSTM, Dense , GRU , SimpleRNN\n",
        "\n",
        "mpl.rcParams['figure.figsize'] = (8, 6)\n",
        "mpl.rcParams['axes.grid'] = False"
      ]
    },
    {
      "cell_type": "markdown",
      "source": [
        "### The weather dataset"
      ],
      "metadata": {
        "id": "mcvfEPvDBk89"
      }
    },
    {
      "cell_type": "code",
      "source": [
        "zip_path = tf.keras.utils.get_file(\n",
        "    origin='https://storage.googleapis.com/tensorflow/tf-keras-datasets/jena_climate_2009_2016.csv.zip',\n",
        "    fname='jena_climate_2009_2016.csv.zip',\n",
        "    extract=True)\n",
        "csv_path, _ = os.path.splitext(zip_path)\n",
        "\n",
        "# We will just deal with hourly predictions, so we'll sub-sampling the data from 10-minute intervals to one-hour intervals:\n",
        "\n",
        "df = pd.read_csv(csv_path)\n",
        "# Slice [start:stop:step], starting from index 5 take every 6th record.\n",
        "df = df[5::6]\n",
        "\n",
        "date_time = pd.to_datetime(df.pop('Date Time'), format='%d.%m.%Y %H:%M:%S')"
      ],
      "metadata": {
        "id": "a3Y-fd_6BWAb",
        "colab": {
          "base_uri": "https://localhost:8080/"
        },
        "outputId": "03f83dd8-538b-43b8-afb2-82719c37b890"
      },
      "execution_count": null,
      "outputs": [
        {
          "output_type": "stream",
          "name": "stdout",
          "text": [
            "Downloading data from https://storage.googleapis.com/tensorflow/tf-keras-datasets/jena_climate_2009_2016.csv.zip\n",
            "13568290/13568290 [==============================] - 0s 0us/step\n"
          ]
        }
      ]
    },
    {
      "cell_type": "markdown",
      "source": [
        "#### Glance at data"
      ],
      "metadata": {
        "id": "yJMvxj4RB9s_"
      }
    },
    {
      "cell_type": "code",
      "source": [
        "df.head()"
      ],
      "metadata": {
        "colab": {
          "base_uri": "https://localhost:8080/",
          "height": 267
        },
        "id": "sqXjwHAjB_dl",
        "outputId": "b586d9fd-3294-452d-f66a-8937d0c7e2eb"
      },
      "execution_count": null,
      "outputs": [
        {
          "output_type": "execute_result",
          "data": {
            "text/plain": [
              "    p (mbar)  T (degC)  Tpot (K)  Tdew (degC)  rh (%)  VPmax (mbar)  \\\n",
              "5     996.50     -8.05    265.38        -8.78    94.4          3.33   \n",
              "11    996.62     -8.88    264.54        -9.77    93.2          3.12   \n",
              "17    996.84     -8.81    264.59        -9.66    93.5          3.13   \n",
              "23    996.99     -9.05    264.34       -10.02    92.6          3.07   \n",
              "29    997.46     -9.63    263.72       -10.65    92.2          2.94   \n",
              "\n",
              "    VPact (mbar)  VPdef (mbar)  sh (g/kg)  H2OC (mmol/mol)  rho (g/m**3)  \\\n",
              "5           3.14          0.19       1.96             3.15       1307.86   \n",
              "11          2.90          0.21       1.81             2.91       1312.25   \n",
              "17          2.93          0.20       1.83             2.94       1312.18   \n",
              "23          2.85          0.23       1.78             2.85       1313.61   \n",
              "29          2.71          0.23       1.69             2.71       1317.19   \n",
              "\n",
              "    wv (m/s)  max. wv (m/s)  wd (deg)  \n",
              "5       0.21           0.63     192.7  \n",
              "11      0.25           0.63     190.3  \n",
              "17      0.18           0.63     167.2  \n",
              "23      0.10           0.38     240.0  \n",
              "29      0.40           0.88     157.0  "
            ],
            "text/html": [
              "\n",
              "  <div id=\"df-7fb3db6f-7080-4de3-ad9f-aa92dd584b5b\">\n",
              "    <div class=\"colab-df-container\">\n",
              "      <div>\n",
              "<style scoped>\n",
              "    .dataframe tbody tr th:only-of-type {\n",
              "        vertical-align: middle;\n",
              "    }\n",
              "\n",
              "    .dataframe tbody tr th {\n",
              "        vertical-align: top;\n",
              "    }\n",
              "\n",
              "    .dataframe thead th {\n",
              "        text-align: right;\n",
              "    }\n",
              "</style>\n",
              "<table border=\"1\" class=\"dataframe\">\n",
              "  <thead>\n",
              "    <tr style=\"text-align: right;\">\n",
              "      <th></th>\n",
              "      <th>p (mbar)</th>\n",
              "      <th>T (degC)</th>\n",
              "      <th>Tpot (K)</th>\n",
              "      <th>Tdew (degC)</th>\n",
              "      <th>rh (%)</th>\n",
              "      <th>VPmax (mbar)</th>\n",
              "      <th>VPact (mbar)</th>\n",
              "      <th>VPdef (mbar)</th>\n",
              "      <th>sh (g/kg)</th>\n",
              "      <th>H2OC (mmol/mol)</th>\n",
              "      <th>rho (g/m**3)</th>\n",
              "      <th>wv (m/s)</th>\n",
              "      <th>max. wv (m/s)</th>\n",
              "      <th>wd (deg)</th>\n",
              "    </tr>\n",
              "  </thead>\n",
              "  <tbody>\n",
              "    <tr>\n",
              "      <th>5</th>\n",
              "      <td>996.50</td>\n",
              "      <td>-8.05</td>\n",
              "      <td>265.38</td>\n",
              "      <td>-8.78</td>\n",
              "      <td>94.4</td>\n",
              "      <td>3.33</td>\n",
              "      <td>3.14</td>\n",
              "      <td>0.19</td>\n",
              "      <td>1.96</td>\n",
              "      <td>3.15</td>\n",
              "      <td>1307.86</td>\n",
              "      <td>0.21</td>\n",
              "      <td>0.63</td>\n",
              "      <td>192.7</td>\n",
              "    </tr>\n",
              "    <tr>\n",
              "      <th>11</th>\n",
              "      <td>996.62</td>\n",
              "      <td>-8.88</td>\n",
              "      <td>264.54</td>\n",
              "      <td>-9.77</td>\n",
              "      <td>93.2</td>\n",
              "      <td>3.12</td>\n",
              "      <td>2.90</td>\n",
              "      <td>0.21</td>\n",
              "      <td>1.81</td>\n",
              "      <td>2.91</td>\n",
              "      <td>1312.25</td>\n",
              "      <td>0.25</td>\n",
              "      <td>0.63</td>\n",
              "      <td>190.3</td>\n",
              "    </tr>\n",
              "    <tr>\n",
              "      <th>17</th>\n",
              "      <td>996.84</td>\n",
              "      <td>-8.81</td>\n",
              "      <td>264.59</td>\n",
              "      <td>-9.66</td>\n",
              "      <td>93.5</td>\n",
              "      <td>3.13</td>\n",
              "      <td>2.93</td>\n",
              "      <td>0.20</td>\n",
              "      <td>1.83</td>\n",
              "      <td>2.94</td>\n",
              "      <td>1312.18</td>\n",
              "      <td>0.18</td>\n",
              "      <td>0.63</td>\n",
              "      <td>167.2</td>\n",
              "    </tr>\n",
              "    <tr>\n",
              "      <th>23</th>\n",
              "      <td>996.99</td>\n",
              "      <td>-9.05</td>\n",
              "      <td>264.34</td>\n",
              "      <td>-10.02</td>\n",
              "      <td>92.6</td>\n",
              "      <td>3.07</td>\n",
              "      <td>2.85</td>\n",
              "      <td>0.23</td>\n",
              "      <td>1.78</td>\n",
              "      <td>2.85</td>\n",
              "      <td>1313.61</td>\n",
              "      <td>0.10</td>\n",
              "      <td>0.38</td>\n",
              "      <td>240.0</td>\n",
              "    </tr>\n",
              "    <tr>\n",
              "      <th>29</th>\n",
              "      <td>997.46</td>\n",
              "      <td>-9.63</td>\n",
              "      <td>263.72</td>\n",
              "      <td>-10.65</td>\n",
              "      <td>92.2</td>\n",
              "      <td>2.94</td>\n",
              "      <td>2.71</td>\n",
              "      <td>0.23</td>\n",
              "      <td>1.69</td>\n",
              "      <td>2.71</td>\n",
              "      <td>1317.19</td>\n",
              "      <td>0.40</td>\n",
              "      <td>0.88</td>\n",
              "      <td>157.0</td>\n",
              "    </tr>\n",
              "  </tbody>\n",
              "</table>\n",
              "</div>\n",
              "      <button class=\"colab-df-convert\" onclick=\"convertToInteractive('df-7fb3db6f-7080-4de3-ad9f-aa92dd584b5b')\"\n",
              "              title=\"Convert this dataframe to an interactive table.\"\n",
              "              style=\"display:none;\">\n",
              "        \n",
              "  <svg xmlns=\"http://www.w3.org/2000/svg\" height=\"24px\"viewBox=\"0 0 24 24\"\n",
              "       width=\"24px\">\n",
              "    <path d=\"M0 0h24v24H0V0z\" fill=\"none\"/>\n",
              "    <path d=\"M18.56 5.44l.94 2.06.94-2.06 2.06-.94-2.06-.94-.94-2.06-.94 2.06-2.06.94zm-11 1L8.5 8.5l.94-2.06 2.06-.94-2.06-.94L8.5 2.5l-.94 2.06-2.06.94zm10 10l.94 2.06.94-2.06 2.06-.94-2.06-.94-.94-2.06-.94 2.06-2.06.94z\"/><path d=\"M17.41 7.96l-1.37-1.37c-.4-.4-.92-.59-1.43-.59-.52 0-1.04.2-1.43.59L10.3 9.45l-7.72 7.72c-.78.78-.78 2.05 0 2.83L4 21.41c.39.39.9.59 1.41.59.51 0 1.02-.2 1.41-.59l7.78-7.78 2.81-2.81c.8-.78.8-2.07 0-2.86zM5.41 20L4 18.59l7.72-7.72 1.47 1.35L5.41 20z\"/>\n",
              "  </svg>\n",
              "      </button>\n",
              "      \n",
              "  <style>\n",
              "    .colab-df-container {\n",
              "      display:flex;\n",
              "      flex-wrap:wrap;\n",
              "      gap: 12px;\n",
              "    }\n",
              "\n",
              "    .colab-df-convert {\n",
              "      background-color: #E8F0FE;\n",
              "      border: none;\n",
              "      border-radius: 50%;\n",
              "      cursor: pointer;\n",
              "      display: none;\n",
              "      fill: #1967D2;\n",
              "      height: 32px;\n",
              "      padding: 0 0 0 0;\n",
              "      width: 32px;\n",
              "    }\n",
              "\n",
              "    .colab-df-convert:hover {\n",
              "      background-color: #E2EBFA;\n",
              "      box-shadow: 0px 1px 2px rgba(60, 64, 67, 0.3), 0px 1px 3px 1px rgba(60, 64, 67, 0.15);\n",
              "      fill: #174EA6;\n",
              "    }\n",
              "\n",
              "    [theme=dark] .colab-df-convert {\n",
              "      background-color: #3B4455;\n",
              "      fill: #D2E3FC;\n",
              "    }\n",
              "\n",
              "    [theme=dark] .colab-df-convert:hover {\n",
              "      background-color: #434B5C;\n",
              "      box-shadow: 0px 1px 3px 1px rgba(0, 0, 0, 0.15);\n",
              "      filter: drop-shadow(0px 1px 2px rgba(0, 0, 0, 0.3));\n",
              "      fill: #FFFFFF;\n",
              "    }\n",
              "  </style>\n",
              "\n",
              "      <script>\n",
              "        const buttonEl =\n",
              "          document.querySelector('#df-7fb3db6f-7080-4de3-ad9f-aa92dd584b5b button.colab-df-convert');\n",
              "        buttonEl.style.display =\n",
              "          google.colab.kernel.accessAllowed ? 'block' : 'none';\n",
              "\n",
              "        async function convertToInteractive(key) {\n",
              "          const element = document.querySelector('#df-7fb3db6f-7080-4de3-ad9f-aa92dd584b5b');\n",
              "          const dataTable =\n",
              "            await google.colab.kernel.invokeFunction('convertToInteractive',\n",
              "                                                     [key], {});\n",
              "          if (!dataTable) return;\n",
              "\n",
              "          const docLinkHtml = 'Like what you see? Visit the ' +\n",
              "            '<a target=\"_blank\" href=https://colab.research.google.com/notebooks/data_table.ipynb>data table notebook</a>'\n",
              "            + ' to learn more about interactive tables.';\n",
              "          element.innerHTML = '';\n",
              "          dataTable['output_type'] = 'display_data';\n",
              "          await google.colab.output.renderOutput(dataTable, element);\n",
              "          const docLink = document.createElement('div');\n",
              "          docLink.innerHTML = docLinkHtml;\n",
              "          element.appendChild(docLink);\n",
              "        }\n",
              "      </script>\n",
              "    </div>\n",
              "  </div>\n",
              "  "
            ]
          },
          "metadata": {},
          "execution_count": 3
        }
      ]
    },
    {
      "cell_type": "markdown",
      "source": [
        "### Inspecting the statistics of data"
      ],
      "metadata": {
        "id": "7mhoRQo5CNng"
      }
    },
    {
      "cell_type": "code",
      "source": [
        "df.describe().transpose()"
      ],
      "metadata": {
        "colab": {
          "base_uri": "https://localhost:8080/",
          "height": 488
        },
        "id": "KAYFCI0fCBQi",
        "outputId": "c3ab2edb-73dd-42b5-854e-cc43a39095d3"
      },
      "execution_count": null,
      "outputs": [
        {
          "output_type": "execute_result",
          "data": {
            "text/plain": [
              "                   count         mean        std      min      25%      50%  \\\n",
              "p (mbar)         70091.0   989.212842   8.358886   913.60   984.20   989.57   \n",
              "T (degC)         70091.0     9.450482   8.423384   -22.76     3.35     9.41   \n",
              "Tpot (K)         70091.0   283.493086   8.504424   250.85   277.44   283.46   \n",
              "Tdew (degC)      70091.0     4.956471   6.730081   -24.80     0.24     5.21   \n",
              "rh (%)           70091.0    76.009788  16.474920    13.88    65.21    79.30   \n",
              "VPmax (mbar)     70091.0    13.576576   7.739883     0.97     7.77    11.82   \n",
              "VPact (mbar)     70091.0     9.533968   4.183658     0.81     6.22     8.86   \n",
              "VPdef (mbar)     70091.0     4.042536   4.898549     0.00     0.87     2.19   \n",
              "sh (g/kg)        70091.0     6.022560   2.655812     0.51     3.92     5.59   \n",
              "H2OC (mmol/mol)  70091.0     9.640437   4.234862     0.81     6.29     8.96   \n",
              "rho (g/m**3)     70091.0  1216.061232  39.974263  1059.45  1187.47  1213.80   \n",
              "wv (m/s)         70091.0     1.702567  65.447512 -9999.00     0.99     1.76   \n",
              "max. wv (m/s)    70091.0     2.963041  75.597657 -9999.00     1.76     2.98   \n",
              "wd (deg)         70091.0   174.789095  86.619431     0.00   125.30   198.10   \n",
              "\n",
              "                      75%      max  \n",
              "p (mbar)          994.720  1015.29  \n",
              "T (degC)           15.480    37.28  \n",
              "Tpot (K)          289.530   311.21  \n",
              "Tdew (degC)        10.080    23.06  \n",
              "rh (%)             89.400   100.00  \n",
              "VPmax (mbar)       17.610    63.77  \n",
              "VPact (mbar)       12.360    28.25  \n",
              "VPdef (mbar)        5.300    46.01  \n",
              "sh (g/kg)           7.800    18.07  \n",
              "H2OC (mmol/mol)    12.490    28.74  \n",
              "rho (g/m**3)     1242.765  1393.54  \n",
              "wv (m/s)            2.860    14.01  \n",
              "max. wv (m/s)       4.740    23.50  \n",
              "wd (deg)          234.000   360.00  "
            ],
            "text/html": [
              "\n",
              "  <div id=\"df-550ba6ba-7591-4bc6-b40e-dd61755e595e\">\n",
              "    <div class=\"colab-df-container\">\n",
              "      <div>\n",
              "<style scoped>\n",
              "    .dataframe tbody tr th:only-of-type {\n",
              "        vertical-align: middle;\n",
              "    }\n",
              "\n",
              "    .dataframe tbody tr th {\n",
              "        vertical-align: top;\n",
              "    }\n",
              "\n",
              "    .dataframe thead th {\n",
              "        text-align: right;\n",
              "    }\n",
              "</style>\n",
              "<table border=\"1\" class=\"dataframe\">\n",
              "  <thead>\n",
              "    <tr style=\"text-align: right;\">\n",
              "      <th></th>\n",
              "      <th>count</th>\n",
              "      <th>mean</th>\n",
              "      <th>std</th>\n",
              "      <th>min</th>\n",
              "      <th>25%</th>\n",
              "      <th>50%</th>\n",
              "      <th>75%</th>\n",
              "      <th>max</th>\n",
              "    </tr>\n",
              "  </thead>\n",
              "  <tbody>\n",
              "    <tr>\n",
              "      <th>p (mbar)</th>\n",
              "      <td>70091.0</td>\n",
              "      <td>989.212842</td>\n",
              "      <td>8.358886</td>\n",
              "      <td>913.60</td>\n",
              "      <td>984.20</td>\n",
              "      <td>989.57</td>\n",
              "      <td>994.720</td>\n",
              "      <td>1015.29</td>\n",
              "    </tr>\n",
              "    <tr>\n",
              "      <th>T (degC)</th>\n",
              "      <td>70091.0</td>\n",
              "      <td>9.450482</td>\n",
              "      <td>8.423384</td>\n",
              "      <td>-22.76</td>\n",
              "      <td>3.35</td>\n",
              "      <td>9.41</td>\n",
              "      <td>15.480</td>\n",
              "      <td>37.28</td>\n",
              "    </tr>\n",
              "    <tr>\n",
              "      <th>Tpot (K)</th>\n",
              "      <td>70091.0</td>\n",
              "      <td>283.493086</td>\n",
              "      <td>8.504424</td>\n",
              "      <td>250.85</td>\n",
              "      <td>277.44</td>\n",
              "      <td>283.46</td>\n",
              "      <td>289.530</td>\n",
              "      <td>311.21</td>\n",
              "    </tr>\n",
              "    <tr>\n",
              "      <th>Tdew (degC)</th>\n",
              "      <td>70091.0</td>\n",
              "      <td>4.956471</td>\n",
              "      <td>6.730081</td>\n",
              "      <td>-24.80</td>\n",
              "      <td>0.24</td>\n",
              "      <td>5.21</td>\n",
              "      <td>10.080</td>\n",
              "      <td>23.06</td>\n",
              "    </tr>\n",
              "    <tr>\n",
              "      <th>rh (%)</th>\n",
              "      <td>70091.0</td>\n",
              "      <td>76.009788</td>\n",
              "      <td>16.474920</td>\n",
              "      <td>13.88</td>\n",
              "      <td>65.21</td>\n",
              "      <td>79.30</td>\n",
              "      <td>89.400</td>\n",
              "      <td>100.00</td>\n",
              "    </tr>\n",
              "    <tr>\n",
              "      <th>VPmax (mbar)</th>\n",
              "      <td>70091.0</td>\n",
              "      <td>13.576576</td>\n",
              "      <td>7.739883</td>\n",
              "      <td>0.97</td>\n",
              "      <td>7.77</td>\n",
              "      <td>11.82</td>\n",
              "      <td>17.610</td>\n",
              "      <td>63.77</td>\n",
              "    </tr>\n",
              "    <tr>\n",
              "      <th>VPact (mbar)</th>\n",
              "      <td>70091.0</td>\n",
              "      <td>9.533968</td>\n",
              "      <td>4.183658</td>\n",
              "      <td>0.81</td>\n",
              "      <td>6.22</td>\n",
              "      <td>8.86</td>\n",
              "      <td>12.360</td>\n",
              "      <td>28.25</td>\n",
              "    </tr>\n",
              "    <tr>\n",
              "      <th>VPdef (mbar)</th>\n",
              "      <td>70091.0</td>\n",
              "      <td>4.042536</td>\n",
              "      <td>4.898549</td>\n",
              "      <td>0.00</td>\n",
              "      <td>0.87</td>\n",
              "      <td>2.19</td>\n",
              "      <td>5.300</td>\n",
              "      <td>46.01</td>\n",
              "    </tr>\n",
              "    <tr>\n",
              "      <th>sh (g/kg)</th>\n",
              "      <td>70091.0</td>\n",
              "      <td>6.022560</td>\n",
              "      <td>2.655812</td>\n",
              "      <td>0.51</td>\n",
              "      <td>3.92</td>\n",
              "      <td>5.59</td>\n",
              "      <td>7.800</td>\n",
              "      <td>18.07</td>\n",
              "    </tr>\n",
              "    <tr>\n",
              "      <th>H2OC (mmol/mol)</th>\n",
              "      <td>70091.0</td>\n",
              "      <td>9.640437</td>\n",
              "      <td>4.234862</td>\n",
              "      <td>0.81</td>\n",
              "      <td>6.29</td>\n",
              "      <td>8.96</td>\n",
              "      <td>12.490</td>\n",
              "      <td>28.74</td>\n",
              "    </tr>\n",
              "    <tr>\n",
              "      <th>rho (g/m**3)</th>\n",
              "      <td>70091.0</td>\n",
              "      <td>1216.061232</td>\n",
              "      <td>39.974263</td>\n",
              "      <td>1059.45</td>\n",
              "      <td>1187.47</td>\n",
              "      <td>1213.80</td>\n",
              "      <td>1242.765</td>\n",
              "      <td>1393.54</td>\n",
              "    </tr>\n",
              "    <tr>\n",
              "      <th>wv (m/s)</th>\n",
              "      <td>70091.0</td>\n",
              "      <td>1.702567</td>\n",
              "      <td>65.447512</td>\n",
              "      <td>-9999.00</td>\n",
              "      <td>0.99</td>\n",
              "      <td>1.76</td>\n",
              "      <td>2.860</td>\n",
              "      <td>14.01</td>\n",
              "    </tr>\n",
              "    <tr>\n",
              "      <th>max. wv (m/s)</th>\n",
              "      <td>70091.0</td>\n",
              "      <td>2.963041</td>\n",
              "      <td>75.597657</td>\n",
              "      <td>-9999.00</td>\n",
              "      <td>1.76</td>\n",
              "      <td>2.98</td>\n",
              "      <td>4.740</td>\n",
              "      <td>23.50</td>\n",
              "    </tr>\n",
              "    <tr>\n",
              "      <th>wd (deg)</th>\n",
              "      <td>70091.0</td>\n",
              "      <td>174.789095</td>\n",
              "      <td>86.619431</td>\n",
              "      <td>0.00</td>\n",
              "      <td>125.30</td>\n",
              "      <td>198.10</td>\n",
              "      <td>234.000</td>\n",
              "      <td>360.00</td>\n",
              "    </tr>\n",
              "  </tbody>\n",
              "</table>\n",
              "</div>\n",
              "      <button class=\"colab-df-convert\" onclick=\"convertToInteractive('df-550ba6ba-7591-4bc6-b40e-dd61755e595e')\"\n",
              "              title=\"Convert this dataframe to an interactive table.\"\n",
              "              style=\"display:none;\">\n",
              "        \n",
              "  <svg xmlns=\"http://www.w3.org/2000/svg\" height=\"24px\"viewBox=\"0 0 24 24\"\n",
              "       width=\"24px\">\n",
              "    <path d=\"M0 0h24v24H0V0z\" fill=\"none\"/>\n",
              "    <path d=\"M18.56 5.44l.94 2.06.94-2.06 2.06-.94-2.06-.94-.94-2.06-.94 2.06-2.06.94zm-11 1L8.5 8.5l.94-2.06 2.06-.94-2.06-.94L8.5 2.5l-.94 2.06-2.06.94zm10 10l.94 2.06.94-2.06 2.06-.94-2.06-.94-.94-2.06-.94 2.06-2.06.94z\"/><path d=\"M17.41 7.96l-1.37-1.37c-.4-.4-.92-.59-1.43-.59-.52 0-1.04.2-1.43.59L10.3 9.45l-7.72 7.72c-.78.78-.78 2.05 0 2.83L4 21.41c.39.39.9.59 1.41.59.51 0 1.02-.2 1.41-.59l7.78-7.78 2.81-2.81c.8-.78.8-2.07 0-2.86zM5.41 20L4 18.59l7.72-7.72 1.47 1.35L5.41 20z\"/>\n",
              "  </svg>\n",
              "      </button>\n",
              "      \n",
              "  <style>\n",
              "    .colab-df-container {\n",
              "      display:flex;\n",
              "      flex-wrap:wrap;\n",
              "      gap: 12px;\n",
              "    }\n",
              "\n",
              "    .colab-df-convert {\n",
              "      background-color: #E8F0FE;\n",
              "      border: none;\n",
              "      border-radius: 50%;\n",
              "      cursor: pointer;\n",
              "      display: none;\n",
              "      fill: #1967D2;\n",
              "      height: 32px;\n",
              "      padding: 0 0 0 0;\n",
              "      width: 32px;\n",
              "    }\n",
              "\n",
              "    .colab-df-convert:hover {\n",
              "      background-color: #E2EBFA;\n",
              "      box-shadow: 0px 1px 2px rgba(60, 64, 67, 0.3), 0px 1px 3px 1px rgba(60, 64, 67, 0.15);\n",
              "      fill: #174EA6;\n",
              "    }\n",
              "\n",
              "    [theme=dark] .colab-df-convert {\n",
              "      background-color: #3B4455;\n",
              "      fill: #D2E3FC;\n",
              "    }\n",
              "\n",
              "    [theme=dark] .colab-df-convert:hover {\n",
              "      background-color: #434B5C;\n",
              "      box-shadow: 0px 1px 3px 1px rgba(0, 0, 0, 0.15);\n",
              "      filter: drop-shadow(0px 1px 2px rgba(0, 0, 0, 0.3));\n",
              "      fill: #FFFFFF;\n",
              "    }\n",
              "  </style>\n",
              "\n",
              "      <script>\n",
              "        const buttonEl =\n",
              "          document.querySelector('#df-550ba6ba-7591-4bc6-b40e-dd61755e595e button.colab-df-convert');\n",
              "        buttonEl.style.display =\n",
              "          google.colab.kernel.accessAllowed ? 'block' : 'none';\n",
              "\n",
              "        async function convertToInteractive(key) {\n",
              "          const element = document.querySelector('#df-550ba6ba-7591-4bc6-b40e-dd61755e595e');\n",
              "          const dataTable =\n",
              "            await google.colab.kernel.invokeFunction('convertToInteractive',\n",
              "                                                     [key], {});\n",
              "          if (!dataTable) return;\n",
              "\n",
              "          const docLinkHtml = 'Like what you see? Visit the ' +\n",
              "            '<a target=\"_blank\" href=https://colab.research.google.com/notebooks/data_table.ipynb>data table notebook</a>'\n",
              "            + ' to learn more about interactive tables.';\n",
              "          element.innerHTML = '';\n",
              "          dataTable['output_type'] = 'display_data';\n",
              "          await google.colab.output.renderOutput(dataTable, element);\n",
              "          const docLink = document.createElement('div');\n",
              "          docLink.innerHTML = docLinkHtml;\n",
              "          element.appendChild(docLink);\n",
              "        }\n",
              "      </script>\n",
              "    </div>\n",
              "  </div>\n",
              "  "
            ]
          },
          "metadata": {},
          "execution_count": 4
        }
      ]
    },
    {
      "cell_type": "markdown",
      "source": [
        "- This -9999 is likely erroneous.\n",
        "\n",
        "- There's a separate wind direction column, so the velocity should be greater than zero (>=0). Replace it with zeros:"
      ],
      "metadata": {
        "id": "JMi4TGioDRwF"
      }
    },
    {
      "cell_type": "code",
      "source": [
        "wv = df['wv (m/s)']  # First we have stored the wv column into a variable 'wv'\n",
        "bad_wv = wv == -9999.0  # Then we are storing this boolean condition (not it's reasult) into bad_wv variable\n",
        "wv[bad_wv] = 0.0  # Now we are checking in wv column , where this condition becomes true it means element is -9999.0 , there we'll store 0.0 value\n",
        "\n",
        "# Similar Process we are applying to \"max. wv\" column and substituting the error value will 0.0\n",
        "\n",
        "max_wv = df['max. wv (m/s)']\n",
        "bad_max_wv = max_wv == -9999.0\n",
        "max_wv[bad_max_wv] = 0.0\n",
        "\n",
        "# Checking if the above inplace edits are reflected in the DataFrame.\n",
        "df['wv (m/s)'].min()"
      ],
      "metadata": {
        "colab": {
          "base_uri": "https://localhost:8080/"
        },
        "id": "vb0RtduvCL9Y",
        "outputId": "d6348f5a-02fd-477d-8b59-796dffc725cb"
      },
      "execution_count": null,
      "outputs": [
        {
          "output_type": "execute_result",
          "data": {
            "text/plain": [
              "0.0"
            ]
          },
          "metadata": {},
          "execution_count": 5
        }
      ]
    },
    {
      "cell_type": "markdown",
      "source": [
        "### Feature Enginnering\n",
        "\n",
        "- Process of extracting desired data from the given raw data.\n",
        "- That desired data containes the limited features which will give us desired output"
      ],
      "metadata": {
        "id": "i9AhD7erFv9f"
      }
    },
    {
      "cell_type": "markdown",
      "source": [
        "- The last column of the data, wd (deg)—gives the wind direction in units of degrees. Angles do not make good model inputs because:\n",
        "\n",
        "  - Angles are typically measured in degrees or radians, which are continuous and cyclic values.Machine learning models often work better with numerical features that have a linear scale and can be represented as real numbers.\n",
        "\n",
        "  - Representing angles as continuous variables can cause a loss of information due to their cyclic nature.\n",
        "\n",
        "    - For example, if an angle wraps around from 359 degrees to 0 degrees, the model might interpret it as a significant change rather than a small difference. This can lead to incorrect interpretations and predictions.\n"
      ],
      "metadata": {
        "id": "KyJXpv0fPlRk"
      }
    },
    {
      "cell_type": "code",
      "source": [
        "# The following 2 lines removes the column with the label 'wv (m/s)' and 'max. wv (m/s)' from the DataFrame 'df' and assigns it to the variable 'wv' and 'max_wv' resptvely.\n",
        "wv = df.pop('wv (m/s)')\n",
        "max_wv = df.pop('max. wv (m/s)')\n",
        "\n",
        "# Convert to radians.\n",
        "wd_rad = df.pop('wd (deg)')*np.pi / 180  # THis line also removes the column and storing it in variable after performing opr to convert into radians\n",
        "\n",
        "# Calculate the wind x and y components and storing it in new columns 'Wx' and 'Wy'\n",
        "df['Wx'] = wv*np.cos(wd_rad)\n",
        "df['Wy'] = wv*np.sin(wd_rad)\n",
        "\n",
        "# Calculate the max wind x and y components and storing it in new columns 'Wx' and 'Wy'\n",
        "df['max Wx'] = max_wv*np.cos(wd_rad)\n",
        "df['max Wy'] = max_wv*np.sin(wd_rad)"
      ],
      "metadata": {
        "id": "bibSe-CgDStR"
      },
      "execution_count": null,
      "outputs": []
    },
    {
      "cell_type": "code",
      "source": [
        "df.head()\n",
        "# df.head()\n",
        "features = ['p (mbar)','T (degC)','Tpot (K)','Tdew (degC)','rh (%)','VPmax (mbar)','VPact (mbar)' ,'VPdef (mbar)','sh (g/kg)','H2OC (mmol/mol)','rho (g/m**3)','Wx','Wy','max Wx','max Wy']\n",
        "len(features)"
      ],
      "metadata": {
        "colab": {
          "base_uri": "https://localhost:8080/"
        },
        "id": "zBolghql8ypC",
        "outputId": "53cc5c66-4f17-4cba-f8dd-f67dc2dd85d3"
      },
      "execution_count": null,
      "outputs": [
        {
          "output_type": "execute_result",
          "data": {
            "text/plain": [
              "15"
            ]
          },
          "metadata": {},
          "execution_count": 7
        }
      ]
    },
    {
      "cell_type": "markdown",
      "source": [
        "## Splitting of Data in 70:20:10 for ( training , validation , testing ) sets"
      ],
      "metadata": {
        "id": "37mRXGZeVpkf"
      }
    },
    {
      "cell_type": "code",
      "source": [
        "# The result is a dictionary, column_indices, where the keys are the column names of df, and the values are their respective indices in the column list.\n",
        "# This dictionary can be used to quickly access the index of a column based on its name, which can be useful for various oprs such as column rearrangement,selec. or manip.\n",
        "column_indices = {name: i for i, name in enumerate(df.columns)}\n",
        "\n",
        "n = len(df)\n",
        "train_df = df[0:int(n*0.7)]\n",
        "val_df = df[int(n*0.7):int(n*0.9)]\n",
        "test_df = df[int(n*0.9):]\n",
        "\n",
        "num_features = df.shape[1]"
      ],
      "metadata": {
        "id": "Iv8irOR7R533"
      },
      "execution_count": null,
      "outputs": []
    },
    {
      "cell_type": "markdown",
      "source": [
        "## Normalize the data"
      ],
      "metadata": {
        "id": "KkVZ_ATxWgMu"
      }
    },
    {
      "cell_type": "code",
      "source": [
        "train_mean = train_df.mean()\n",
        "train_std = train_df.std()\n",
        "\n",
        "train_df = (train_df - train_mean) / train_std\n",
        "val_df = (val_df - train_mean) / train_std\n",
        "test_df = (test_df - train_mean) / train_std\n",
        "train_df.size"
      ],
      "metadata": {
        "id": "QpHr1tM5WhHT",
        "colab": {
          "base_uri": "https://localhost:8080/"
        },
        "outputId": "a48e0c1a-8e25-414c-bbed-ec84e093d184"
      },
      "execution_count": null,
      "outputs": [
        {
          "output_type": "execute_result",
          "data": {
            "text/plain": [
              "735945"
            ]
          },
          "metadata": {},
          "execution_count": 9
        }
      ]
    },
    {
      "cell_type": "markdown",
      "source": [
        "## Data Windowing\n",
        "\n",
        "- The purpose of data windowing is to break down a larger dataset into smaller, more manageable chunks that can be analyzed or processed individually.\n",
        "\n",
        "- By segmenting the time series into smaller windows, it becomes possible to analyze each segment independently and extract relevant features or characteristics. This can be useful for tasks such as trend analysis, anomaly detection, or forecasting.\n",
        "\n"
      ],
      "metadata": {
        "id": "FN55_1ULXFPQ"
      }
    },
    {
      "cell_type": "markdown",
      "source": [
        "### ***- Indexes and offsets***"
      ],
      "metadata": {
        "id": "JiTMZZgYDy7P"
      }
    },
    {
      "cell_type": "code",
      "source": [
        "# input_width: The number of time steps in the input window.\n",
        "# label_width: The number of time steps in the output/label window.\n",
        "# shift: The number of time steps to shift the window for the next prediction. Here we will move data by 24 (we'll take the data of each day as a subsequence)\n",
        "# train_df, val_df, test_df: DataFrames containing the training, validation, and testing data.\n",
        "# label_columns: A list of column names that represent the output/label variables.\n",
        "\n",
        "class WindowGenerator():\n",
        "  def __init__(self, input_width, label_width, shift,\n",
        "               train_df=train_df, val_df=val_df, test_df=test_df,\n",
        "               label_columns=None):\n",
        "    # Store the raw data.\n",
        "    self.train_df = train_df\n",
        "    self.val_df = val_df\n",
        "    self.test_df = test_df\n",
        "\n",
        "    # Work out the label column indices.\n",
        "    self.label_columns = label_columns\n",
        "    if label_columns is not None:\n",
        "      self.label_columns_indices = {name: i for i, name in\n",
        "                                    enumerate(label_columns)}\n",
        "    self.column_indices = {name: i for i, name in\n",
        "                           enumerate(train_df.columns)}\n",
        "\n",
        "    # Work out the window parameters.\n",
        "    self.input_width = input_width\n",
        "    self.label_width = label_width\n",
        "    self.shift = shift\n",
        "\n",
        "    self.total_window_size = input_width + shift\n",
        "\n",
        "    self.input_slice = slice(0, input_width)  # This will create slice object slice(0, input_width, None)\n",
        "    self.input_indices = np.arange(self.total_window_size)[self.input_slice]  # input_indices will contain indeces from 0 to input_width (instead of till total_window_size)\n",
        "\n",
        "    self.label_start = self.total_window_size - self.label_width # starting index of output / label / prediction\n",
        "    self.labels_slice = slice(self.label_start, None)   # This will create slice object slice(label_start, None, None)\n",
        "    self.label_indices = np.arange(self.total_window_size)[self.labels_slice] # label_indices contains indices from label_start to end\n",
        "\n",
        "  def __repr__(self):\n",
        "    return '\\n'.join([\n",
        "        f'Total window size: {self.total_window_size}',\n",
        "        f'Input indices: {self.input_indices}',\n",
        "        f'Label indices: {self.label_indices}',\n",
        "        f'Label column name(s): {self.label_columns}'])"
      ],
      "metadata": {
        "id": "zC8T0ZdYWs0K"
      },
      "execution_count": null,
      "outputs": []
    },
    {
      "cell_type": "markdown",
      "source": [
        "### ***- Split Window***\n",
        "\n",
        "- The features tensor is assumed to have a shape of [batch_size, total_window_size, num_features]. The input_slice is a range of indices that specifies which part of the total_window_size to consider as the input window. So this line extracts the input window from the features tensor.\n",
        "\n",
        "- labels_slice is a range of indices that specifies which part of the total_window_size to consider as the label window.\n"
      ],
      "metadata": {
        "id": "IZuHlu9SDlun"
      }
    },
    {
      "cell_type": "code",
      "source": [
        "def split_window(self, features):\n",
        "\n",
        "  inputs = features[:, self.input_slice, :]   # : before input_slice says selecting every rows , : after slice says take the third dimension too\n",
        "  labels = features[:, self.labels_slice, :]\n",
        "\n",
        "  if self.label_columns is not None:\n",
        "    labels = tf.stack(\n",
        "        [labels[:, :, self.column_indices[name]] for name in self.label_columns],\n",
        "        axis=-1)\n",
        "\n",
        "  # Slicing doesn't preserve static shape information, so set the shapes\n",
        "  # manually. This way the `tf.data.Datasets` are easier to inspect.\n",
        "\n",
        "  inputs.set_shape([None, self.input_width, None])\n",
        "  labels.set_shape([None, self.label_width, None])\n",
        "\n",
        "  return inputs, labels\n",
        "\n",
        "WindowGenerator.split_window = split_window  # split_window user defined func assigned to method of WindowGenerator class"
      ],
      "metadata": {
        "id": "xzSeQaJ93JjB"
      },
      "execution_count": null,
      "outputs": []
    },
    {
      "cell_type": "markdown",
      "source": [
        "### ***-Plot***"
      ],
      "metadata": {
        "id": "YTZnFJ1eYY1u"
      }
    },
    {
      "cell_type": "code",
      "source": [
        "# def plot(self, model=None, plot_col='T (degC)', max_subplots=3):\n",
        "#   inputs, labels = self.example\n",
        "#   plt.figure(figsize=(12, 8))\n",
        "#   plot_col_index = self.column_indices[plot_col]\n",
        "#   max_n = min(max_subplots, len(inputs))\n",
        "#   for n in range(max_n):\n",
        "#     plt.subplot(max_n, 1, n+1)\n",
        "#     plt.ylabel(f'{plot_col} [normed]')\n",
        "#     plt.plot(self.input_indices, inputs[n, :, plot_col_index],\n",
        "#              label='Inputs', marker='.', zorder=-10)\n",
        "\n",
        "#     if self.label_columns:\n",
        "#       label_col_index = self.label_columns_indices.get(plot_col, None)\n",
        "#     else:\n",
        "#       label_col_index = plot_col_index\n",
        "\n",
        "#     if label_col_index is None:\n",
        "#       continue\n",
        "\n",
        "#     plt.scatter(self.label_indices, labels[n, :, label_col_index],\n",
        "#                 edgecolors='k', label='Labels', c='#2ca02c', s=64)\n",
        "#     if model is not None:\n",
        "#       predictions = model(inputs)\n",
        "#       plt.scatter(self.label_indices, predictions[n, :, label_col_index],\n",
        "#                   marker='X', edgecolors='k', label='Predictions',\n",
        "#                   c='#ff7f0e', s=64)\n",
        "\n",
        "#     if n == 0:\n",
        "#       plt.legend()\n",
        "\n",
        "#   plt.xlabel('Time [h]')\n",
        "\n",
        "# WindowGenerator.plot = plot"
      ],
      "metadata": {
        "id": "OiQfDfcFYcmu"
      },
      "execution_count": null,
      "outputs": []
    },
    {
      "cell_type": "markdown",
      "source": [
        "### ***Creating tf.data.Datasets***"
      ],
      "metadata": {
        "id": "IRrbYtSXGfds"
      }
    },
    {
      "cell_type": "code",
      "source": [
        "def make_dataset(self, data):\n",
        "  data = np.array(data, dtype=np.float32)\n",
        "  ds = tf.keras.utils.timeseries_dataset_from_array(\n",
        "      data=data,\n",
        "      targets=None,\n",
        "      sequence_length=self.total_window_size,\n",
        "      sequence_stride=1,   # It determines how many time steps to skip between two consecutive sequences in the dataset.\n",
        "      shuffle=True,\n",
        "      batch_size=32,)\n",
        "  ds = ds.map(self.split_window)\n",
        "# By using map(self.split_window), the split_window function is applied to each element of the dataset,\n",
        "# resulting in a new dataset where each element has been transformed into a tuple of inputs and labels.\n",
        "\n",
        "  return ds\n",
        "\n",
        "WindowGenerator.make_dataset = make_dataset"
      ],
      "metadata": {
        "id": "JZwMaZZ4Ghjj"
      },
      "execution_count": null,
      "outputs": []
    },
    {
      "cell_type": "code",
      "source": [
        "@property\n",
        "def train(self):\n",
        "  return self.make_dataset(self.train_df)\n",
        "\n",
        "@property\n",
        "def val(self):\n",
        "  return self.make_dataset(self.val_df)\n",
        "\n",
        "@property\n",
        "def test(self):\n",
        "  return self.make_dataset(self.test_df)\n",
        "\n",
        "@property\n",
        "def example(self):\n",
        "  '''Get and cache an example batch of `inputs, labels` for plotting.'''\n",
        "  result = getattr(self, '_example', None)\n",
        "  if result is None:\n",
        "    # No example batch was found, so get one from the `.train` dataset\n",
        "    result = next(iter(self.train))\n",
        "    # And cache it for next time\n",
        "    self._example = result\n",
        "  return result\n",
        "\n",
        "WindowGenerator.train = train\n",
        "WindowGenerator.val = val\n",
        "WindowGenerator.test = test\n",
        "WindowGenerator.example = example"
      ],
      "metadata": {
        "id": "aflcVgibIj9M"
      },
      "execution_count": null,
      "outputs": []
    },
    {
      "cell_type": "markdown",
      "source": [
        "## Single step and Wide Window"
      ],
      "metadata": {
        "id": "jVoJWtxZgaey"
      }
    },
    {
      "cell_type": "code",
      "source": [
        "single_step_window = WindowGenerator(\n",
        "    # `WindowGenerator` returns all features as labels if you\n",
        "    # don't set the `label_columns` argument.\n",
        "    input_width=1, label_width=1, shift=1 , label_columns = features)\n",
        "\n",
        "wide_window = WindowGenerator(\n",
        "    input_width=24, label_width=1, shift=1 , label_columns = features)\n",
        "\n",
        "for example_inputs, example_labels in wide_window.train.take(1):\n",
        "  print(f'Inputs shape (batch, time, features): {example_inputs.shape}')\n",
        "  print(f'Labels shape (batch, time, features): {example_labels.shape}')"
      ],
      "metadata": {
        "colab": {
          "base_uri": "https://localhost:8080/"
        },
        "id": "fsDUN_CCqzY7",
        "outputId": "cec00273-e820-49d5-f533-19cf662354c6"
      },
      "execution_count": null,
      "outputs": [
        {
          "output_type": "stream",
          "name": "stdout",
          "text": [
            "Inputs shape (batch, time, features): (32, 24, 15)\n",
            "Labels shape (batch, time, features): (32, 1, 15)\n"
          ]
        }
      ]
    },
    {
      "cell_type": "markdown",
      "source": [
        "## Baseline\n",
        "- Before building a trainable model it would be good to have a performance baseline as a point for comparison with the later more complicated models."
      ],
      "metadata": {
        "id": "-EdEHzWaSDEl"
      }
    },
    {
      "cell_type": "code",
      "source": [
        "class Baseline(tf.keras.Model):\n",
        "  def __init__(self, label_index=None):\n",
        "    super().__init__()\n",
        "    self.label_index = label_index\n",
        "\n",
        "  def call(self, inputs):\n",
        "    if self.label_index is None:\n",
        "      return inputs\n",
        "    result = inputs[:, :, self.label_index]\n",
        "    return result[:, :, tf.newaxis]"
      ],
      "metadata": {
        "id": "nwT7AHLRPSMY"
      },
      "execution_count": null,
      "outputs": []
    },
    {
      "cell_type": "code",
      "source": [
        "baseline = Baseline()\n",
        "baseline.compile(loss=tf.keras.losses.MeanSquaredError(),\n",
        "                 metrics=[tf.keras.metrics.MeanAbsoluteError()])\n",
        "\n",
        "val_performance = {}\n",
        "performance = {}\n",
        "\n",
        "val_performance['Baseline'] = baseline.evaluate(wide_window.val)\n",
        "performance['Baseline'] = baseline.evaluate(wide_window.test, verbose=0)"
      ],
      "metadata": {
        "colab": {
          "base_uri": "https://localhost:8080/"
        },
        "id": "_X8F0CY_LHyD",
        "outputId": "2edb9a32-3644-44a3-db59-f7ade41972b7"
      },
      "execution_count": null,
      "outputs": [
        {
          "output_type": "stream",
          "name": "stdout",
          "text": [
            "438/438 [==============================] - 2s 4ms/step - loss: 0.5292 - mean_absolute_error: 0.4806\n"
          ]
        }
      ]
    },
    {
      "cell_type": "code",
      "source": [
        "print('Input shape:', wide_window.example[0].shape)\n",
        "print('Output shape:', baseline(wide_window.example[0]).shape)"
      ],
      "metadata": {
        "colab": {
          "base_uri": "https://localhost:8080/"
        },
        "id": "ZlKon-DnU5vk",
        "outputId": "77688548-29a6-4bae-a2b9-555321f329d6"
      },
      "execution_count": null,
      "outputs": [
        {
          "output_type": "stream",
          "name": "stdout",
          "text": [
            "Input shape: (32, 24, 15)\n",
            "Output shape: (32, 24, 15)\n"
          ]
        }
      ]
    },
    {
      "cell_type": "code",
      "source": [
        "# wide_window.plot(baseline)"
      ],
      "metadata": {
        "id": "Od6tIiI9YDl2"
      },
      "execution_count": null,
      "outputs": []
    },
    {
      "cell_type": "markdown",
      "source": [
        "## Training Procedure"
      ],
      "metadata": {
        "id": "R4ZhU-iMav5W"
      }
    },
    {
      "cell_type": "code",
      "source": [
        "MAX_EPOCHS = 10\n",
        "\n",
        "def compile_and_fit(model, window, patience=2):\n",
        "  early_stopping = tf.keras.callbacks.EarlyStopping(monitor='val_loss',\n",
        "                                                    patience=patience,\n",
        "                                                    mode='min')\n",
        "\n",
        "  model.compile(loss=tf.keras.losses.MeanAbsolutePercentageError(),\n",
        "                optimizer=tf.keras.optimizers.Adam(),\n",
        "                metrics=[tf.keras.metrics.MeanAbsoluteError()])\n",
        "\n",
        "  history = model.fit(window.train, epochs=MAX_EPOCHS,\n",
        "                      validation_data=window.val,\n",
        "                      callbacks=[early_stopping])\n",
        "  return history"
      ],
      "metadata": {
        "id": "QIhaqlZFZ12e"
      },
      "execution_count": null,
      "outputs": []
    },
    {
      "cell_type": "markdown",
      "source": [
        "### RNN"
      ],
      "metadata": {
        "id": "U20_16WQ9dty"
      }
    },
    {
      "cell_type": "code",
      "source": [
        "rnn = Sequential()\n",
        "rnn.add(SimpleRNN(64 , return_sequences=True))\n",
        "rnn.add(Dense(num_features))"
      ],
      "metadata": {
        "id": "IfuH_XMB9dBY"
      },
      "execution_count": null,
      "outputs": []
    },
    {
      "cell_type": "markdown",
      "source": [
        "### LSTM"
      ],
      "metadata": {
        "id": "sFXl8DHf9Hx8"
      }
    },
    {
      "cell_type": "code",
      "source": [
        "lstm_model = Sequential()\n",
        "lstm_model.add(LSTM(64, return_sequences=True))\n",
        "lstm_model.add(Dense(num_features))"
      ],
      "metadata": {
        "id": "69YDm9Qe9HZT"
      },
      "execution_count": null,
      "outputs": []
    },
    {
      "cell_type": "markdown",
      "source": [
        "### Bi-LSTM"
      ],
      "metadata": {
        "id": "VA9-3kWZwxOp"
      }
    },
    {
      "cell_type": "code",
      "source": [
        "model = Sequential()\n",
        "model.add(Bidirectional(LSTM(10, return_sequences=True)))\n",
        "model.add(Dense(num_features))"
      ],
      "metadata": {
        "id": "1I4VnTtEww5s"
      },
      "execution_count": null,
      "outputs": []
    },
    {
      "cell_type": "markdown",
      "source": [
        "### GRU"
      ],
      "metadata": {
        "id": "OObnS7wly1VX"
      }
    },
    {
      "cell_type": "code",
      "source": [
        "gru_model = Sequential()\n",
        "gru_model.add(GRU(64,return_sequences=True))\n",
        "gru_model.add(Dense(num_features))"
      ],
      "metadata": {
        "id": "0G3wVvIcy3VW"
      },
      "execution_count": null,
      "outputs": []
    },
    {
      "cell_type": "markdown",
      "source": [
        "### Bi-GRU"
      ],
      "metadata": {
        "id": "6UQ09oig_0SE"
      }
    },
    {
      "cell_type": "code",
      "source": [
        "bi_gru = Sequential()\n",
        "bi_gru.add(Bidirectional(GRU(10, return_sequences=True)))\n",
        "bi_gru.add(Dense(num_features))"
      ],
      "metadata": {
        "id": "MqegJMdI_2Wu"
      },
      "execution_count": null,
      "outputs": []
    },
    {
      "cell_type": "markdown",
      "source": [
        "--------------------------------------------------------------------------------"
      ],
      "metadata": {
        "id": "48uuatoh3GdJ"
      }
    },
    {
      "cell_type": "markdown",
      "source": [
        "## Evaluation Procedure"
      ],
      "metadata": {
        "id": "Hkfmt0HTjpfZ"
      }
    },
    {
      "cell_type": "markdown",
      "source": [
        "### Evaluating RNN"
      ],
      "metadata": {
        "id": "2omc93cx-4Sf"
      }
    },
    {
      "cell_type": "code",
      "source": [
        "history = compile_and_fit(rnn , wide_window)\n",
        "\n",
        "IPython.display.clear_output()\n",
        "val_performance['RNN'] = rnn.evaluate(wide_window.val)\n",
        "performance['RNN'] = rnn.evaluate(wide_window.test, verbose=0)"
      ],
      "metadata": {
        "id": "LktknW21_Ggv",
        "colab": {
          "base_uri": "https://localhost:8080/"
        },
        "outputId": "2673ce58-388c-4b42-bc9c-47a80b0191c8"
      },
      "execution_count": null,
      "outputs": [
        {
          "output_type": "stream",
          "name": "stdout",
          "text": [
            "438/438 [==============================] - 2s 4ms/step - loss: 113.1834 - mean_absolute_error: 0.7022\n"
          ]
        }
      ]
    },
    {
      "cell_type": "code",
      "source": [
        "print('Input shape:', wide_window.example[0].shape)\n",
        "print('Output shape:', rnn(wide_window.example[0]).shape)"
      ],
      "metadata": {
        "colab": {
          "base_uri": "https://localhost:8080/"
        },
        "outputId": "b6b06fa7-f6c5-4762-8029-fe3d1c1169e9",
        "id": "m2Y5E8xj_kKy"
      },
      "execution_count": null,
      "outputs": [
        {
          "output_type": "stream",
          "name": "stdout",
          "text": [
            "Input shape: (32, 24, 15)\n",
            "Output shape: (32, 24, 15)\n"
          ]
        }
      ]
    },
    {
      "cell_type": "markdown",
      "source": [
        "### Evaluating lstm model"
      ],
      "metadata": {
        "id": "Ov9I5kqZkVdY"
      }
    },
    {
      "cell_type": "code",
      "source": [
        "history = compile_and_fit(lstm_model, wide_window)\n",
        "\n",
        "IPython.display.clear_output()\n",
        "val_performance['LSTM'] = lstm_model.evaluate(wide_window.val)\n",
        "performance['LSTM'] = lstm_model.evaluate(wide_window.test, verbose=0)"
      ],
      "metadata": {
        "id": "CVOXHePlqR5K",
        "colab": {
          "base_uri": "https://localhost:8080/"
        },
        "outputId": "7787ce75-303d-4591-fca8-5236d579395e"
      },
      "execution_count": null,
      "outputs": [
        {
          "output_type": "stream",
          "name": "stdout",
          "text": [
            "438/438 [==============================] - 2s 5ms/step - loss: 99.4972 - mean_absolute_error: 0.6681\n"
          ]
        }
      ]
    },
    {
      "cell_type": "code",
      "source": [
        "print('Input shape:', wide_window.example[0].shape)\n",
        "print('Output shape:', lstm_model(wide_window.example[0]).shape)"
      ],
      "metadata": {
        "colab": {
          "base_uri": "https://localhost:8080/"
        },
        "id": "iSKQ8Dm5qGKx",
        "outputId": "ab105ef0-e28f-4da2-9a14-bfff7ff2c185"
      },
      "execution_count": null,
      "outputs": [
        {
          "output_type": "stream",
          "name": "stdout",
          "text": [
            "Input shape: (32, 24, 15)\n",
            "Output shape: (32, 24, 15)\n"
          ]
        }
      ]
    },
    {
      "cell_type": "markdown",
      "source": [
        "### Evaluating Bi-LSTM model"
      ],
      "metadata": {
        "id": "JWOkXMUrx6U4"
      }
    },
    {
      "cell_type": "code",
      "source": [
        "history = compile_and_fit(model, wide_window)\n",
        "\n",
        "IPython.display.clear_output()\n",
        "val_performance['Bi-LSTM'] = model.evaluate(wide_window.val)\n",
        "performance['Bi-LSTM'] = model.evaluate(wide_window.test, verbose=0)"
      ],
      "metadata": {
        "colab": {
          "base_uri": "https://localhost:8080/"
        },
        "id": "Jw_r4D9ex-4B",
        "outputId": "714667c4-81b5-40b5-d0de-c722e7c78b61"
      },
      "execution_count": null,
      "outputs": [
        {
          "output_type": "stream",
          "name": "stdout",
          "text": [
            "438/438 [==============================] - 3s 6ms/step - loss: 99.4311 - mean_absolute_error: 0.6743\n"
          ]
        }
      ]
    },
    {
      "cell_type": "code",
      "source": [
        "print('Input shape:', wide_window.example[0].shape)\n",
        "print('Output shape:', model(wide_window.example[0]).shape)"
      ],
      "metadata": {
        "colab": {
          "base_uri": "https://localhost:8080/"
        },
        "id": "t__EuWXqyDxL",
        "outputId": "6f035ae7-e02a-465c-f40b-fb5f456c5942"
      },
      "execution_count": null,
      "outputs": [
        {
          "output_type": "stream",
          "name": "stdout",
          "text": [
            "Input shape: (32, 24, 15)\n",
            "Output shape: (32, 24, 15)\n"
          ]
        }
      ]
    },
    {
      "cell_type": "markdown",
      "source": [
        "### Evaluating GRU model"
      ],
      "metadata": {
        "id": "WXUljHotzYU2"
      }
    },
    {
      "cell_type": "code",
      "source": [
        "history = compile_and_fit(gru_model, wide_window)\n",
        "\n",
        "IPython.display.clear_output()\n",
        "val_performance['GRU'] = gru_model.evaluate(wide_window.val)\n",
        "performance['GRU'] = gru_model.evaluate(wide_window.test, verbose=0)"
      ],
      "metadata": {
        "id": "J1A8qd9dzYU3",
        "colab": {
          "base_uri": "https://localhost:8080/"
        },
        "outputId": "ca826767-4544-4f07-c9b8-ed79776278c6"
      },
      "execution_count": null,
      "outputs": [
        {
          "output_type": "stream",
          "name": "stdout",
          "text": [
            "438/438 [==============================] - 2s 5ms/step - loss: 116.5669 - mean_absolute_error: 0.6824\n"
          ]
        }
      ]
    },
    {
      "cell_type": "code",
      "source": [
        "print('Input shape:', wide_window.example[0].shape)\n",
        "print('Output shape:', gru_model(wide_window.example[0]).shape)"
      ],
      "metadata": {
        "colab": {
          "base_uri": "https://localhost:8080/"
        },
        "id": "-v3mtA-czYU4",
        "outputId": "7ab65b49-f394-49f0-d166-804e74f68156"
      },
      "execution_count": null,
      "outputs": [
        {
          "output_type": "stream",
          "name": "stdout",
          "text": [
            "Input shape: (32, 24, 15)\n",
            "Output shape: (32, 24, 15)\n"
          ]
        }
      ]
    },
    {
      "cell_type": "markdown",
      "source": [
        "### Evaluating Bi-GRU"
      ],
      "metadata": {
        "id": "iPKmqmI1_tyh"
      }
    },
    {
      "cell_type": "code",
      "source": [
        "history = compile_and_fit(bi_gru, wide_window)\n",
        "\n",
        "IPython.display.clear_output()\n",
        "val_performance['Bi-GRU'] = bi_gru.evaluate(wide_window.val)\n",
        "performance['Bi-GRU'] = bi_gru.evaluate(wide_window.test, verbose=0)"
      ],
      "metadata": {
        "colab": {
          "base_uri": "https://localhost:8080/"
        },
        "outputId": "70e3dbcf-eef8-4ba7-aeac-04eb83b8ac32",
        "id": "UbcS2p37b1CW"
      },
      "execution_count": null,
      "outputs": [
        {
          "output_type": "stream",
          "name": "stdout",
          "text": [
            "438/438 [==============================] - 2s 5ms/step - loss: 117.6151 - mean_absolute_error: 0.6875\n"
          ]
        }
      ]
    },
    {
      "cell_type": "code",
      "source": [
        "print('Input shape:', wide_window.example[0].shape)\n",
        "print('Output shape:', bi_gru(wide_window.example[0]).shape)"
      ],
      "metadata": {
        "id": "GrvjChs2b1CX",
        "colab": {
          "base_uri": "https://localhost:8080/"
        },
        "outputId": "56e97d38-aefd-45dd-d453-2d96592ecd1b"
      },
      "execution_count": null,
      "outputs": [
        {
          "output_type": "stream",
          "name": "stdout",
          "text": [
            "Input shape: (32, 24, 15)\n",
            "Output shape: (32, 24, 15)\n"
          ]
        }
      ]
    },
    {
      "cell_type": "markdown",
      "source": [
        "## Performance\n",
        "\n",
        "- Here is the overall performance for these multi-output models.\n",
        "\n"
      ],
      "metadata": {
        "id": "Z1OjCblRttZy"
      }
    },
    {
      "cell_type": "markdown",
      "source": [
        "### Graphical Representation"
      ],
      "metadata": {
        "id": "xBh7usuWSsC4"
      }
    },
    {
      "cell_type": "code",
      "source": [
        "# wide_window.plot(model)"
      ],
      "metadata": {
        "id": "YP4bypsRSou8"
      },
      "execution_count": null,
      "outputs": []
    },
    {
      "cell_type": "code",
      "source": [
        "x = np.arange(len(performance))\n",
        "width = 0.3\n",
        "\n",
        "metric_name = 'mean_absolute_error'\n",
        "metric_index = lstm_model.metrics_names.index('mean_absolute_error')\n",
        "val_mae = [v[metric_index] for v in val_performance.values()]\n",
        "test_mae = [v[metric_index] for v in performance.values()]\n",
        "\n",
        "plt.bar(x - 0.17, val_mae, width, label='Validation')\n",
        "plt.bar(x + 0.17, test_mae, width, label='Test')\n",
        "plt.xticks(ticks=x, labels=performance.keys(),\n",
        "           rotation=45)\n",
        "plt.ylabel('MAE (average over all outputs)')\n",
        "_ = plt.legend()"
      ],
      "metadata": {
        "colab": {
          "base_uri": "https://localhost:8080/",
          "height": 560
        },
        "id": "5VgcrMS7tupP",
        "outputId": "7958d2cb-cf70-4693-85dc-0e36329d4865"
      },
      "execution_count": null,
      "outputs": [
        {
          "output_type": "display_data",
          "data": {
            "text/plain": [
              "<Figure size 800x600 with 1 Axes>"
            ],
            "image/png": "[encoded data removed]"
          },
          "metadata": {}
        }
      ]
    },
    {
      "cell_type": "code",
      "source": [
        "for name, value in performance.items():\n",
        "  print(f'{name:15s}: {value[1]:0.4f}')"
      ],
      "metadata": {
        "colab": {
          "base_uri": "https://localhost:8080/"
        },
        "id": "-iPGN0GUtyML",
        "outputId": "69ff9d7b-c485-408d-fcb3-bdcce3415343"
      },
      "execution_count": null,
      "outputs": [
        {
          "output_type": "stream",
          "name": "stdout",
          "text": [
            "Baseline       : 0.4989\n",
            "RNN            : 0.7366\n",
            "LSTM           : 0.7229\n",
            "Bi-LSTM        : 0.7289\n",
            "GRU            : 0.7266\n",
            "Bi-GRU         : 0.7292\n"
          ]
        }
      ]
    },
    {
      "cell_type": "code",
      "source": [
        "predicted = model.predict(wide_window.train)"
      ],
      "metadata": {
        "id": "g1LMZdgPtmU-",
        "colab": {
          "base_uri": "https://localhost:8080/"
        },
        "outputId": "07d6d229-9562-4074-f2de-95ce59627998"
      },
      "execution_count": null,
      "outputs": [
        {
          "output_type": "stream",
          "name": "stdout",
          "text": [
            "1533/1533 [==============================] - 9s 5ms/step\n"
          ]
        }
      ]
    },
    {
      "cell_type": "code",
      "source": [
        "val_ds = wide_window.train\n",
        "dataset_list = list(val_ds)\n",
        "\n",
        "actual = np.array([])\n",
        "\n",
        "count = 0\n",
        "for i in range(len(dataset_list)):\n",
        "  for j in range(len(dataset_list[i][1])):\n",
        "    actual = np.insert(actual ,count, dataset_list[i][1][0][0][0])\n",
        "    count+=1"
      ],
      "metadata": {
        "id": "AMTX_P2o5S4j"
      },
      "execution_count": null,
      "outputs": []
    },
    {
      "cell_type": "code",
      "source": [
        "actual = actual.tolist()"
      ],
      "metadata": {
        "id": "dGN2wlHNB0BA"
      },
      "execution_count": null,
      "outputs": []
    },
    {
      "cell_type": "code",
      "source": [
        "len(actual)"
      ],
      "metadata": {
        "colab": {
          "base_uri": "https://localhost:8080/"
        },
        "id": "QTXWvZ8X_aAQ",
        "outputId": "92f44900-964c-4648-8e20-82f8a0d9635d"
      },
      "execution_count": null,
      "outputs": [
        {
          "output_type": "execute_result",
          "data": {
            "text/plain": [
              "49039"
            ]
          },
          "metadata": {},
          "execution_count": 58
        }
      ]
    },
    {
      "cell_type": "code",
      "source": [
        "# len(predicted)\n",
        "predicted[0][:3]"
      ],
      "metadata": {
        "colab": {
          "base_uri": "https://localhost:8080/"
        },
        "id": "nsWR6AEbO9a3",
        "outputId": "facb8bf3-69f7-4b08-b9e7-0ea02616ba4e"
      },
      "execution_count": null,
      "outputs": [
        {
          "output_type": "execute_result",
          "data": {
            "text/plain": [
              "array([[ 0.02173454, -0.07621515, -0.11294219,  0.02053693,  0.00136727,\n",
              "        -0.14130567, -0.15584408, -0.04506944, -0.20120451, -0.20420894,\n",
              "         0.02062155, -0.00318741,  0.01849203,  0.01232276,  0.0051864 ],\n",
              "       [ 0.01894121, -0.08719854, -0.11984837,  0.01971155,  0.00595818,\n",
              "        -0.16005363, -0.1931955 , -0.04760669, -0.23855102, -0.22326022,\n",
              "         0.02443746, -0.00823629,  0.01776023,  0.0097321 ,  0.00810965],\n",
              "       [ 0.01913434, -0.09062654, -0.12193291,  0.02058789,  0.01168044,\n",
              "        -0.17493965, -0.22949915, -0.05287379, -0.26821887, -0.23332995,\n",
              "         0.02908211, -0.01086969,  0.01626143,  0.00823279,  0.01084109]],\n",
              "      dtype=float32)"
            ]
          },
          "metadata": {},
          "execution_count": 59
        }
      ]
    },
    {
      "cell_type": "code",
      "source": [
        "predicted.shape"
      ],
      "metadata": {
        "colab": {
          "base_uri": "https://localhost:8080/"
        },
        "id": "tZIVV9PRAxHZ",
        "outputId": "f39523d3-5657-42ba-ba5c-41df0e60a253"
      },
      "execution_count": null,
      "outputs": [
        {
          "output_type": "execute_result",
          "data": {
            "text/plain": [
              "(49039, 24, 15)"
            ]
          },
          "metadata": {},
          "execution_count": 60
        }
      ]
    },
    {
      "cell_type": "code",
      "source": [
        "print(\"Dataset contains \", len(dataset_list) , \" arrays\")\n",
        "print(\"In every array it contains \" ,len(dataset_list[0]) , \" elements , Input + Label \")\n",
        "print(\"In both the elements there are \" , len(dataset_list[0][0]) , \" & \" , len(dataset_list[0][1]) , \" arrays\")\n",
        "print(\"Inside the 32 arrays in Input element there is array of \" , len(dataset_list[0][0][0]) , \" elements , which signifies That many hours of previous data is used as input\")\n",
        "print(\"Inside the 32 arrays in Label element there is array of \" , len(dataset_list[0][1][0]) , \" element , which signifies That many hours of prediction is done\")\n",
        "print(\"Inside the 24 arrays in Input element in that each array consists of \" , len(dataset_list[0][0][0][0]) , \" elements , which signifies number of features\")\n",
        "\n",
        "print(\"\\nLabel can be accessed by \" , dataset_list[0][1][0][0][0]) # using 5 dimensions"
      ],
      "metadata": {
        "colab": {
          "base_uri": "https://localhost:8080/"
        },
        "id": "douQgZMIDf1R",
        "outputId": "b7cc303c-d48c-4632-c2fc-67f9ea5764bf"
      },
      "execution_count": null,
      "outputs": [
        {
          "output_type": "stream",
          "name": "stdout",
          "text": [
            "Dataset contains  1533  arrays\n",
            "In every array it contains  2  elements , Input + Label \n",
            "In both the elements there are  32  &  32  arrays\n",
            "Inside the 32 arrays in Input element there is array of  24  elements , which signifies That many hours of previous data is used as input\n",
            "Inside the 32 arrays in Label element there is array of  1  element , which signifies That many hours of prediction is done\n",
            "Inside the 24 arrays in Input element in that each array consists of  15  elements , which signifies number of features\n",
            "\n",
            "Label can be accessed by  tf.Tensor(0.40899926, shape=(), dtype=float32)\n"
          ]
        }
      ]
    },
    {
      "cell_type": "markdown",
      "source": [
        "#### Line Plot"
      ],
      "metadata": {
        "id": "BN5lCgtVHNgG"
      }
    },
    {
      "cell_type": "code",
      "source": [
        "actual_t = actual\n",
        "predicted_t = predicted\n",
        "\n",
        "time_steps = np.arange(len(actual_t))\n",
        "\n",
        "# Plotting the line plot\n",
        "plt.plot(time_steps, actual_t, label='Actual')\n",
        "plt.plot(time_steps, predicted_t[:, 0 , 0], label='Predicted')\n",
        "plt.xlabel('Time')\n",
        "plt.ylabel('Values')\n",
        "plt.title('Actual vs Predicted Values')\n",
        "plt.legend()\n",
        "plt.show()"
      ],
      "metadata": {
        "colab": {
          "base_uri": "https://localhost:8080/",
          "height": 564
        },
        "id": "gNOYnhaLBeD4",
        "outputId": "ade4fe3c-6480-4973-efb7-34c9c8f9e65a"
      },
      "execution_count": null,
      "outputs": [
        {
          "output_type": "display_data",
          "data": {
            "text/plain": [
              "<Figure size 800x600 with 1 Axes>"
            ],
            "image/png": "[encoded data removed]"
          },
          "metadata": {}
        }
      ]
    },
    {
      "cell_type": "markdown",
      "source": [
        "#### Scatter plot"
      ],
      "metadata": {
        "id": "NxV0NJMuHRY4"
      }
    },
    {
      "cell_type": "code",
      "source": [
        "predicted_t = predicted[:100]\n",
        "predicted_t.shape"
      ],
      "metadata": {
        "colab": {
          "base_uri": "https://localhost:8080/"
        },
        "id": "bF8w2xhKNTrV",
        "outputId": "0c1269aa-0a8d-468d-ec26-fa04e2b1ce8f"
      },
      "execution_count": null,
      "outputs": [
        {
          "output_type": "execute_result",
          "data": {
            "text/plain": [
              "(100, 24, 15)"
            ]
          },
          "metadata": {},
          "execution_count": 63
        }
      ]
    },
    {
      "cell_type": "code",
      "source": [
        "actual_t = actual[:100]\n",
        "predicted_t = predicted[:100]\n",
        "\n",
        "time_steps = np.arange(len(actual_t))\n",
        "\n",
        "# Plotting the scatter plot\n",
        "plt.scatter(time_steps, actual_t, label='Actual')\n",
        "plt.scatter(time_steps, predicted_t[:,0 , 0], label='Predicted')\n",
        "plt.xlabel('Index')\n",
        "plt.ylabel('Values')\n",
        "plt.title('Actual vs Predicted Values')\n",
        "plt.legend()\n",
        "plt.show()"
      ],
      "metadata": {
        "colab": {
          "base_uri": "https://localhost:8080/",
          "height": 564
        },
        "id": "ycDgdqIz4i7C",
        "outputId": "44b18207-c138-44f2-95fc-06447601243d"
      },
      "execution_count": null,
      "outputs": [
        {
          "output_type": "display_data",
          "data": {
            "text/plain": [
              "<Figure size 800x600 with 1 Axes>"
            ],
            "image/png": "[encoded data removed]"
          },
          "metadata": {}
        }
      ]
    },
    {
      "cell_type": "code",
      "source": [],
      "metadata": {
        "id": "u5i_hiEaB4J6"
      },
      "execution_count": null,
      "outputs": []
    }
  ]
}