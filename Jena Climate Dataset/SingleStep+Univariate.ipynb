{
  "nbformat": 4,
  "nbformat_minor": 0,
  "metadata": {
    "colab": {
      "provenance": [],
      "toc_visible": true
    },
    "kernelspec": {
      "name": "python3",
      "display_name": "Python 3"
    },
    "language_info": {
      "name": "python"
    }
  },
  "cells": [
    {
      "cell_type": "markdown",
      "source": [
        "### Setup"
      ],
      "metadata": {
        "id": "hT9--fEWBS2v"
      }
    },
    {
      "cell_type": "code",
      "execution_count": null,
      "metadata": {
        "id": "PRNAMN5QBKD5"
      },
      "outputs": [],
      "source": [
        "import os\n",
        "import datetime\n",
        "\n",
        "import IPython\n",
        "import IPython.display\n",
        "import matplotlib as mpl\n",
        "import matplotlib.pyplot as plt\n",
        "import numpy as np\n",
        "import pandas as pd\n",
        "import seaborn as sns\n",
        "import tensorflow as tf\n",
        "from tensorflow.keras.models import Sequential\n",
        "from tensorflow.keras.layers import Bidirectional, LSTM, Dense , GRU , SimpleRNN\n",
        "from prophet import Prophet\n",
        "\n",
        "mpl.rcParams['figure.figsize'] = (8, 6)\n",
        "mpl.rcParams['axes.grid'] = False"
      ]
    },
    {
      "cell_type": "markdown",
      "source": [
        "### The weather dataset"
      ],
      "metadata": {
        "id": "mcvfEPvDBk89"
      }
    },
    {
      "cell_type": "code",
      "source": [
        "zip_path = tf.keras.utils.get_file(\n",
        "    origin='https://storage.googleapis.com/tensorflow/tf-keras-datasets/jena_climate_2009_2016.csv.zip',\n",
        "    fname='jena_climate_2009_2016.csv.zip',\n",
        "    extract=True)\n",
        "csv_path, _ = os.path.splitext(zip_path)\n",
        "\n",
        "# We will just deal with hourly predictions, so we'll sub-sampling the data from 10-minute intervals to one-hour intervals:\n",
        "\n",
        "df = pd.read_csv(csv_path)\n",
        "# Slice [start:stop:step], starting from index 5 take every 6th record.\n",
        "df = df[5::6]\n",
        "df_t = df[[\"Date Time\", \"T (degC)\"]]\n",
        "date_time = pd.to_datetime(df.pop('Date Time'), format='%d.%m.%Y %H:%M:%S')"
      ],
      "metadata": {
        "id": "a3Y-fd_6BWAb"
      },
      "execution_count": null,
      "outputs": []
    },
    {
      "cell_type": "markdown",
      "source": [
        "#### Glance at data"
      ],
      "metadata": {
        "id": "yJMvxj4RB9s_"
      }
    },
    {
      "cell_type": "code",
      "source": [
        "df.head()"
      ],
      "metadata": {
        "colab": {
          "base_uri": "https://localhost:8080/",
          "height": 267
        },
        "id": "sqXjwHAjB_dl",
        "outputId": "ca82cb81-0742-4d44-b612-80b12a97a80b"
      },
      "execution_count": null,
      "outputs": [
        {
          "output_type": "execute_result",
          "data": {
            "text/plain": [
              "    p (mbar)  T (degC)  Tpot (K)  Tdew (degC)  rh (%)  VPmax (mbar)  \\\n",
              "5     996.50     -8.05    265.38        -8.78    94.4          3.33   \n",
              "11    996.62     -8.88    264.54        -9.77    93.2          3.12   \n",
              "17    996.84     -8.81    264.59        -9.66    93.5          3.13   \n",
              "23    996.99     -9.05    264.34       -10.02    92.6          3.07   \n",
              "29    997.46     -9.63    263.72       -10.65    92.2          2.94   \n",
              "\n",
              "    VPact (mbar)  VPdef (mbar)  sh (g/kg)  H2OC (mmol/mol)  rho (g/m**3)  \\\n",
              "5           3.14          0.19       1.96             3.15       1307.86   \n",
              "11          2.90          0.21       1.81             2.91       1312.25   \n",
              "17          2.93          0.20       1.83             2.94       1312.18   \n",
              "23          2.85          0.23       1.78             2.85       1313.61   \n",
              "29          2.71          0.23       1.69             2.71       1317.19   \n",
              "\n",
              "    wv (m/s)  max. wv (m/s)  wd (deg)  \n",
              "5       0.21           0.63     192.7  \n",
              "11      0.25           0.63     190.3  \n",
              "17      0.18           0.63     167.2  \n",
              "23      0.10           0.38     240.0  \n",
              "29      0.40           0.88     157.0  "
            ],
            "text/html": [
              "\n",
              "  <div id=\"df-c6cbcfca-5440-4136-945e-6c09acf5a0ce\">\n",
              "    <div class=\"colab-df-container\">\n",
              "      <div>\n",
              "<style scoped>\n",
              "    .dataframe tbody tr th:only-of-type {\n",
              "        vertical-align: middle;\n",
              "    }\n",
              "\n",
              "    .dataframe tbody tr th {\n",
              "        vertical-align: top;\n",
              "    }\n",
              "\n",
              "    .dataframe thead th {\n",
              "        text-align: right;\n",
              "    }\n",
              "</style>\n",
              "<table border=\"1\" class=\"dataframe\">\n",
              "  <thead>\n",
              "    <tr style=\"text-align: right;\">\n",
              "      <th></th>\n",
              "      <th>p (mbar)</th>\n",
              "      <th>T (degC)</th>\n",
              "      <th>Tpot (K)</th>\n",
              "      <th>Tdew (degC)</th>\n",
              "      <th>rh (%)</th>\n",
              "      <th>VPmax (mbar)</th>\n",
              "      <th>VPact (mbar)</th>\n",
              "      <th>VPdef (mbar)</th>\n",
              "      <th>sh (g/kg)</th>\n",
              "      <th>H2OC (mmol/mol)</th>\n",
              "      <th>rho (g/m**3)</th>\n",
              "      <th>wv (m/s)</th>\n",
              "      <th>max. wv (m/s)</th>\n",
              "      <th>wd (deg)</th>\n",
              "    </tr>\n",
              "  </thead>\n",
              "  <tbody>\n",
              "    <tr>\n",
              "      <th>5</th>\n",
              "      <td>996.50</td>\n",
              "      <td>-8.05</td>\n",
              "      <td>265.38</td>\n",
              "      <td>-8.78</td>\n",
              "      <td>94.4</td>\n",
              "      <td>3.33</td>\n",
              "      <td>3.14</td>\n",
              "      <td>0.19</td>\n",
              "      <td>1.96</td>\n",
              "      <td>3.15</td>\n",
              "      <td>1307.86</td>\n",
              "      <td>0.21</td>\n",
              "      <td>0.63</td>\n",
              "      <td>192.7</td>\n",
              "    </tr>\n",
              "    <tr>\n",
              "      <th>11</th>\n",
              "      <td>996.62</td>\n",
              "      <td>-8.88</td>\n",
              "      <td>264.54</td>\n",
              "      <td>-9.77</td>\n",
              "      <td>93.2</td>\n",
              "      <td>3.12</td>\n",
              "      <td>2.90</td>\n",
              "      <td>0.21</td>\n",
              "      <td>1.81</td>\n",
              "      <td>2.91</td>\n",
              "      <td>1312.25</td>\n",
              "      <td>0.25</td>\n",
              "      <td>0.63</td>\n",
              "      <td>190.3</td>\n",
              "    </tr>\n",
              "    <tr>\n",
              "      <th>17</th>\n",
              "      <td>996.84</td>\n",
              "      <td>-8.81</td>\n",
              "      <td>264.59</td>\n",
              "      <td>-9.66</td>\n",
              "      <td>93.5</td>\n",
              "      <td>3.13</td>\n",
              "      <td>2.93</td>\n",
              "      <td>0.20</td>\n",
              "      <td>1.83</td>\n",
              "      <td>2.94</td>\n",
              "      <td>1312.18</td>\n",
              "      <td>0.18</td>\n",
              "      <td>0.63</td>\n",
              "      <td>167.2</td>\n",
              "    </tr>\n",
              "    <tr>\n",
              "      <th>23</th>\n",
              "      <td>996.99</td>\n",
              "      <td>-9.05</td>\n",
              "      <td>264.34</td>\n",
              "      <td>-10.02</td>\n",
              "      <td>92.6</td>\n",
              "      <td>3.07</td>\n",
              "      <td>2.85</td>\n",
              "      <td>0.23</td>\n",
              "      <td>1.78</td>\n",
              "      <td>2.85</td>\n",
              "      <td>1313.61</td>\n",
              "      <td>0.10</td>\n",
              "      <td>0.38</td>\n",
              "      <td>240.0</td>\n",
              "    </tr>\n",
              "    <tr>\n",
              "      <th>29</th>\n",
              "      <td>997.46</td>\n",
              "      <td>-9.63</td>\n",
              "      <td>263.72</td>\n",
              "      <td>-10.65</td>\n",
              "      <td>92.2</td>\n",
              "      <td>2.94</td>\n",
              "      <td>2.71</td>\n",
              "      <td>0.23</td>\n",
              "      <td>1.69</td>\n",
              "      <td>2.71</td>\n",
              "      <td>1317.19</td>\n",
              "      <td>0.40</td>\n",
              "      <td>0.88</td>\n",
              "      <td>157.0</td>\n",
              "    </tr>\n",
              "  </tbody>\n",
              "</table>\n",
              "</div>\n",
              "      <button class=\"colab-df-convert\" onclick=\"convertToInteractive('df-c6cbcfca-5440-4136-945e-6c09acf5a0ce')\"\n",
              "              title=\"Convert this dataframe to an interactive table.\"\n",
              "              style=\"display:none;\">\n",
              "        \n",
              "  <svg xmlns=\"http://www.w3.org/2000/svg\" height=\"24px\"viewBox=\"0 0 24 24\"\n",
              "       width=\"24px\">\n",
              "    <path d=\"M0 0h24v24H0V0z\" fill=\"none\"/>\n",
              "    <path d=\"M18.56 5.44l.94 2.06.94-2.06 2.06-.94-2.06-.94-.94-2.06-.94 2.06-2.06.94zm-11 1L8.5 8.5l.94-2.06 2.06-.94-2.06-.94L8.5 2.5l-.94 2.06-2.06.94zm10 10l.94 2.06.94-2.06 2.06-.94-2.06-.94-.94-2.06-.94 2.06-2.06.94z\"/><path d=\"M17.41 7.96l-1.37-1.37c-.4-.4-.92-.59-1.43-.59-.52 0-1.04.2-1.43.59L10.3 9.45l-7.72 7.72c-.78.78-.78 2.05 0 2.83L4 21.41c.39.39.9.59 1.41.59.51 0 1.02-.2 1.41-.59l7.78-7.78 2.81-2.81c.8-.78.8-2.07 0-2.86zM5.41 20L4 18.59l7.72-7.72 1.47 1.35L5.41 20z\"/>\n",
              "  </svg>\n",
              "      </button>\n",
              "      \n",
              "  <style>\n",
              "    .colab-df-container {\n",
              "      display:flex;\n",
              "      flex-wrap:wrap;\n",
              "      gap: 12px;\n",
              "    }\n",
              "\n",
              "    .colab-df-convert {\n",
              "      background-color: #E8F0FE;\n",
              "      border: none;\n",
              "      border-radius: 50%;\n",
              "      cursor: pointer;\n",
              "      display: none;\n",
              "      fill: #1967D2;\n",
              "      height: 32px;\n",
              "      padding: 0 0 0 0;\n",
              "      width: 32px;\n",
              "    }\n",
              "\n",
              "    .colab-df-convert:hover {\n",
              "      background-color: #E2EBFA;\n",
              "      box-shadow: 0px 1px 2px rgba(60, 64, 67, 0.3), 0px 1px 3px 1px rgba(60, 64, 67, 0.15);\n",
              "      fill: #174EA6;\n",
              "    }\n",
              "\n",
              "    [theme=dark] .colab-df-convert {\n",
              "      background-color: #3B4455;\n",
              "      fill: #D2E3FC;\n",
              "    }\n",
              "\n",
              "    [theme=dark] .colab-df-convert:hover {\n",
              "      background-color: #434B5C;\n",
              "      box-shadow: 0px 1px 3px 1px rgba(0, 0, 0, 0.15);\n",
              "      filter: drop-shadow(0px 1px 2px rgba(0, 0, 0, 0.3));\n",
              "      fill: #FFFFFF;\n",
              "    }\n",
              "  </style>\n",
              "\n",
              "      <script>\n",
              "        const buttonEl =\n",
              "          document.querySelector('#df-c6cbcfca-5440-4136-945e-6c09acf5a0ce button.colab-df-convert');\n",
              "        buttonEl.style.display =\n",
              "          google.colab.kernel.accessAllowed ? 'block' : 'none';\n",
              "\n",
              "        async function convertToInteractive(key) {\n",
              "          const element = document.querySelector('#df-c6cbcfca-5440-4136-945e-6c09acf5a0ce');\n",
              "          const dataTable =\n",
              "            await google.colab.kernel.invokeFunction('convertToInteractive',\n",
              "                                                     [key], {});\n",
              "          if (!dataTable) return;\n",
              "\n",
              "          const docLinkHtml = 'Like what you see? Visit the ' +\n",
              "            '<a target=\"_blank\" href=https://colab.research.google.com/notebooks/data_table.ipynb>data table notebook</a>'\n",
              "            + ' to learn more about interactive tables.';\n",
              "          element.innerHTML = '';\n",
              "          dataTable['output_type'] = 'display_data';\n",
              "          await google.colab.output.renderOutput(dataTable, element);\n",
              "          const docLink = document.createElement('div');\n",
              "          docLink.innerHTML = docLinkHtml;\n",
              "          element.appendChild(docLink);\n",
              "        }\n",
              "      </script>\n",
              "    </div>\n",
              "  </div>\n",
              "  "
            ]
          },
          "metadata": {},
          "execution_count": 3
        }
      ]
    },
    {
      "cell_type": "markdown",
      "source": [
        "## Splitting of Data in 70:20:10 for ( training , validation , testing ) sets"
      ],
      "metadata": {
        "id": "37mRXGZeVpkf"
      }
    },
    {
      "cell_type": "code",
      "source": [
        "# The result is a dictionary, column_indices, where the keys are the column names of df, and the values are their respective indices in the column list.\n",
        "# This dictionary can be used to quickly access the index of a column based on its name, which can be useful for various oprs such as column rearrangement,selec. or manip.\n",
        "column_indices = {name: i for i, name in enumerate(df.columns)}\n",
        "\n",
        "n = len(df)\n",
        "train_df = df[0:int(n*(70/100))]\n",
        "val_df = df[int(n*(70/100)):int(n*(90/100))]\n",
        "test_df = df[int(n*(90/100)):]\n",
        "\n",
        "num_features = df.shape[1]\n",
        "# print(num_features)"
      ],
      "metadata": {
        "id": "Iv8irOR7R533"
      },
      "execution_count": null,
      "outputs": []
    },
    {
      "cell_type": "markdown",
      "source": [
        "## Normalize the data"
      ],
      "metadata": {
        "id": "KkVZ_ATxWgMu"
      }
    },
    {
      "cell_type": "code",
      "source": [
        "train_mean = train_df.mean()\n",
        "train_std = train_df.std()\n",
        "\n",
        "train_df = (train_df - train_mean) / train_std\n",
        "val_df = (val_df - train_mean) / train_std\n",
        "test_df = (test_df - train_mean) / train_std\n",
        "train_df.size"
      ],
      "metadata": {
        "id": "QpHr1tM5WhHT",
        "colab": {
          "base_uri": "https://localhost:8080/"
        },
        "outputId": "44c348ad-088f-4f99-efe9-695619e22ac4"
      },
      "execution_count": null,
      "outputs": [
        {
          "output_type": "execute_result",
          "data": {
            "text/plain": [
              "686882"
            ]
          },
          "metadata": {},
          "execution_count": 5
        }
      ]
    },
    {
      "cell_type": "markdown",
      "source": [
        "## Data Windowing\n",
        "\n",
        "- The purpose of data windowing is to break down a larger dataset into smaller, more manageable chunks that can be analyzed or processed individually.\n",
        "\n",
        "- By segmenting the time series into smaller windows, it becomes possible to analyze each segment independently and extract relevant features or characteristics. This can be useful for tasks such as trend analysis, anomaly detection, or forecasting.\n",
        "\n"
      ],
      "metadata": {
        "id": "FN55_1ULXFPQ"
      }
    },
    {
      "cell_type": "markdown",
      "source": [
        "### ***- Indexes and offsets***"
      ],
      "metadata": {
        "id": "JiTMZZgYDy7P"
      }
    },
    {
      "cell_type": "code",
      "source": [
        "# input_width: The number of time steps in the input window.\n",
        "# label_width: The number of time steps in the output/label window.\n",
        "# shift: The number of time steps to shift the window for the next prediction. Here we will move data by 24 (we'll take the data of each day as a subsequence)\n",
        "# train_df, val_df, test_df: DataFrames containing the training, validation, and testing data.\n",
        "# label_columns: A list of column names that represent the output/label variables.\n",
        "\n",
        "class WindowGenerator():\n",
        "  def __init__(self, input_width, label_width, shift,\n",
        "               train_df=train_df, val_df=val_df, test_df=test_df,\n",
        "               label_columns=['T (degC)']):\n",
        "    # Store the raw data.\n",
        "    self.train_df = train_df\n",
        "    self.val_df = val_df\n",
        "    self.test_df = test_df\n",
        "\n",
        "    # Work out the label column indices.\n",
        "    self.label_columns = label_columns\n",
        "    if label_columns is not None:\n",
        "      self.label_columns_indices = {name: i for i, name in\n",
        "                                    enumerate(label_columns)}\n",
        "    self.column_indices = {name: i for i, name in\n",
        "                           enumerate(train_df.columns)}\n",
        "\n",
        "    # Work out the window parameters.\n",
        "    self.input_width = input_width\n",
        "    self.label_width = label_width\n",
        "    self.shift = shift\n",
        "\n",
        "    self.total_window_size = input_width + shift\n",
        "\n",
        "    self.input_slice = slice(0, input_width)  # This will create slice object slice(0, input_width, None)\n",
        "    self.input_indices = np.arange(self.total_window_size)[self.input_slice]  # input_indices will contain indeces from 0 to input_width (instead of till total_window_size)\n",
        "\n",
        "    self.label_start = self.total_window_size - self.label_width # starting index of output / label / prediction\n",
        "    self.labels_slice = slice(self.label_start, None)   # This will create slice object slice(label_start, None, None)\n",
        "    self.label_indices = np.arange(self.total_window_size)[self.labels_slice] # label_indices contains indices from label_start to end\n",
        "\n",
        "  def __repr__(self):\n",
        "    return '\\n'.join([\n",
        "        f'Total window size: {self.total_window_size}',\n",
        "        f'Input indices: {self.input_indices}',\n",
        "        f'Label indices: {self.label_indices}',\n",
        "        f'Label column name(s): {self.label_columns}'])"
      ],
      "metadata": {
        "id": "zC8T0ZdYWs0K"
      },
      "execution_count": null,
      "outputs": []
    },
    {
      "cell_type": "markdown",
      "source": [
        "### ***- Split Window***\n",
        "\n",
        "- The features tensor is assumed to have a shape of [batch_size, total_window_size, num_features]. The input_slice is a range of indices that specifies which part of the total_window_size to consider as the input window. So this line extracts the input window from the features tensor.\n",
        "\n",
        "- labels_slice is a range of indices that specifies which part of the total_window_size to consider as the label window.\n"
      ],
      "metadata": {
        "id": "IZuHlu9SDlun"
      }
    },
    {
      "cell_type": "code",
      "source": [
        "def split_window(self, features):\n",
        "\n",
        "  inputs = features[:, self.input_slice, :]   # : before input_slice says selecting every rows , : after slice says take the third dimension too\n",
        "  labels = features[:, self.labels_slice, :]\n",
        "\n",
        "  if self.label_columns is not None:\n",
        "    labels = tf.stack(\n",
        "        [labels[:, :, self.column_indices[name]] for name in self.label_columns],\n",
        "        axis=-1)\n",
        "\n",
        "  # Slicing doesn't preserve static shape information, so set the shapes\n",
        "  # manually. This way the `tf.data.Datasets` are easier to inspect.\n",
        "\n",
        "  inputs.set_shape([None, self.input_width, None])\n",
        "  labels.set_shape([None, self.label_width, None])\n",
        "\n",
        "  return inputs, labels\n",
        "\n",
        "WindowGenerator.split_window = split_window  # split_window user defined func assigned to method of WindowGenerator class"
      ],
      "metadata": {
        "id": "xzSeQaJ93JjB"
      },
      "execution_count": null,
      "outputs": []
    },
    {
      "cell_type": "markdown",
      "source": [
        "### ***-Plot***"
      ],
      "metadata": {
        "id": "YTZnFJ1eYY1u"
      }
    },
    {
      "cell_type": "code",
      "source": [
        "# def plot(self, model=None, plot_col='T (degC)', max_subplots=3):\n",
        "#   inputs, labels = self.example\n",
        "#   plt.figure(figsize=(12, 8))\n",
        "#   plot_col_index = self.column_indices[plot_col]\n",
        "#   max_n = min(max_subplots, len(inputs))\n",
        "#   for n in range(max_n):\n",
        "#     plt.subplot(max_n, 1, n+1)\n",
        "#     plt.ylabel(f'{plot_col} [normed]')\n",
        "#     plt.plot(self.input_indices, inputs[n, :, plot_col_index],\n",
        "#              label='Inputs', marker='.', zorder=-10)\n",
        "\n",
        "#     if self.label_columns:\n",
        "#       label_col_index = self.label_columns_indices.get(plot_col, None)\n",
        "#     else:\n",
        "#       label_col_index = plot_col_index\n",
        "\n",
        "#     if label_col_index is None:\n",
        "#       continue\n",
        "\n",
        "#     plt.scatter(self.label_indices, labels[n, :, label_col_index],\n",
        "#                 edgecolors='k', label='Labels', c='#2ca02c', s=64)\n",
        "#     if model is not None:\n",
        "#       predictions = model(inputs)\n",
        "#       plt.scatter(self.label_indices, predictions[n, :, label_col_index],\n",
        "#                   marker='X', edgecolors='k', label='Predictions',\n",
        "#                   c='#ff7f0e', s=64)\n",
        "\n",
        "#     if n == 0:\n",
        "#       plt.legend()\n",
        "\n",
        "#   plt.xlabel('Time [h]')\n",
        "\n",
        "# WindowGenerator.plot = plot"
      ],
      "metadata": {
        "id": "OiQfDfcFYcmu"
      },
      "execution_count": null,
      "outputs": []
    },
    {
      "cell_type": "markdown",
      "source": [
        "### ***-Creating tf.data.Datasets***"
      ],
      "metadata": {
        "id": "IRrbYtSXGfds"
      }
    },
    {
      "cell_type": "code",
      "source": [
        "def make_dataset(self, data):\n",
        "  data = np.array(data, dtype=np.float32)\n",
        "  ds = tf.keras.utils.timeseries_dataset_from_array(\n",
        "      data=data,\n",
        "      targets=None,\n",
        "      sequence_length=self.total_window_size,\n",
        "      sequence_stride=1,   # It determines how many time steps to skip between two consecutive sequences in the dataset.\n",
        "      shuffle=True,\n",
        "      batch_size=32,)\n",
        "  ds = ds.map(self.split_window)\n",
        "# By using map(self.split_window), the split_window function is applied to each element of the dataset,\n",
        "# resulting in a new dataset where each element has been transformed into a tuple of inputs and labels.\n",
        "\n",
        "  return ds\n",
        "\n",
        "WindowGenerator.make_dataset = make_dataset"
      ],
      "metadata": {
        "id": "JZwMaZZ4Ghjj"
      },
      "execution_count": null,
      "outputs": []
    },
    {
      "cell_type": "code",
      "source": [
        "@property\n",
        "def train(self):\n",
        "  return self.make_dataset(self.train_df)\n",
        "\n",
        "@property\n",
        "def val(self):\n",
        "  return self.make_dataset(self.val_df)\n",
        "\n",
        "@property\n",
        "def test(self):\n",
        "  return self.make_dataset(self.test_df)\n",
        "\n",
        "@property\n",
        "def example(self):\n",
        "  '''Get and cache an example batch of `inputs, labels` for plotting.'''\n",
        "  result = getattr(self, '_example', None)\n",
        "  if result is None:\n",
        "    # No example batch was found, so get one from the `.train` dataset\n",
        "    result = next(iter(self.train))\n",
        "    # And cache it for next time\n",
        "    self._example = result\n",
        "  return result\n",
        "\n",
        "WindowGenerator.train = train\n",
        "WindowGenerator.val = val\n",
        "WindowGenerator.test = test\n",
        "WindowGenerator.example = example"
      ],
      "metadata": {
        "id": "aflcVgibIj9M"
      },
      "execution_count": null,
      "outputs": []
    },
    {
      "cell_type": "markdown",
      "source": [
        "## Baseline\n",
        "- Before building a trainable model it would be good to have a performance baseline as a point for comparison with the later more complicated models."
      ],
      "metadata": {
        "id": "-EdEHzWaSDEl"
      }
    },
    {
      "cell_type": "code",
      "source": [
        "class Baseline(tf.keras.Model):\n",
        "  def __init__(self, label_index=None):\n",
        "    super().__init__()\n",
        "    self.label_index = label_index\n",
        "\n",
        "  def call(self, inputs):\n",
        "    if self.label_index is None:\n",
        "      return inputs\n",
        "    result = inputs[:, :, self.label_index]\n",
        "    return result[:, :, tf.newaxis]\n",
        "\n",
        "baseline = Baseline(label_index=column_indices['T (degC)'])\n",
        "\n",
        "baseline.compile(loss=tf.keras.losses.MeanSquaredError(),\n",
        "                 metrics=[tf.keras.metrics.MeanAbsoluteError()])\n"
      ],
      "metadata": {
        "id": "nwT7AHLRPSMY"
      },
      "execution_count": null,
      "outputs": []
    },
    {
      "cell_type": "markdown",
      "source": [
        "## Single step window\n",
        "\n",
        "- The simplest model predicts a single feature's value —>> 1 time step (one hour) into the future based only on the current conditions."
      ],
      "metadata": {
        "id": "FzXB1tRyNYP6"
      }
    },
    {
      "cell_type": "code",
      "source": [
        "single_step_window = WindowGenerator(\n",
        "    input_width=1, label_width=1, shift=1,)\n",
        "single_step_window"
      ],
      "metadata": {
        "colab": {
          "base_uri": "https://localhost:8080/"
        },
        "id": "rVfnjXxhK39O",
        "outputId": "053c0216-6bbb-467d-9727-6d8a8654a367"
      },
      "execution_count": null,
      "outputs": [
        {
          "output_type": "execute_result",
          "data": {
            "text/plain": [
              "Total window size: 2\n",
              "Input indices: [0]\n",
              "Label indices: [1]\n",
              "Label column name(s): ['T (degC)']"
            ]
          },
          "metadata": {},
          "execution_count": 12
        }
      ]
    },
    {
      "cell_type": "code",
      "source": [
        "for example_inputs, example_labels in single_step_window.train.take(1):\n",
        "  # print(example_inputs)\n",
        "  print(f'Inputs shape (batch, time, features): {example_inputs.shape}')\n",
        "  print(f'Labels shape (batch, time, features): {example_labels.shape}')"
      ],
      "metadata": {
        "id": "qRZbT2bmNcdd",
        "colab": {
          "base_uri": "https://localhost:8080/"
        },
        "outputId": "7f1ace36-4483-4391-a8de-7c28d1838e56"
      },
      "execution_count": null,
      "outputs": [
        {
          "output_type": "stream",
          "name": "stdout",
          "text": [
            "Inputs shape (batch, time, features): (32, 1, 14)\n",
            "Labels shape (batch, time, features): (32, 1, 1)\n"
          ]
        }
      ]
    },
    {
      "cell_type": "markdown",
      "source": [
        "## Wide Window\n",
        "- Taking 24 hours of past data and predicts 24hours into future"
      ],
      "metadata": {
        "id": "RcU_Xi0UgaMe"
      }
    },
    {
      "cell_type": "code",
      "source": [
        "wide_window = WindowGenerator(\n",
        "    input_width=24, label_width=1, shift=1,)\n",
        "\n",
        "wide_window"
      ],
      "metadata": {
        "colab": {
          "base_uri": "https://localhost:8080/"
        },
        "id": "fPp70GmUTdLh",
        "outputId": "13bd5752-5a1c-4890-eaa4-43d5e33e82bf"
      },
      "execution_count": null,
      "outputs": [
        {
          "output_type": "execute_result",
          "data": {
            "text/plain": [
              "Total window size: 25\n",
              "Input indices: [ 0  1  2  3  4  5  6  7  8  9 10 11 12 13 14 15 16 17 18 19 20 21 22 23]\n",
              "Label indices: [24]\n",
              "Label column name(s): ['T (degC)']"
            ]
          },
          "metadata": {},
          "execution_count": 14
        }
      ]
    },
    {
      "cell_type": "code",
      "source": [
        "print('Input shape:', wide_window.example[0].shape)\n",
        "print('Output shape:', baseline(wide_window.example[0]).shape)"
      ],
      "metadata": {
        "colab": {
          "base_uri": "https://localhost:8080/"
        },
        "id": "ZlKon-DnU5vk",
        "outputId": "06d0a1cb-51aa-4ce8-d959-fdf2efe37959"
      },
      "execution_count": null,
      "outputs": [
        {
          "output_type": "stream",
          "name": "stdout",
          "text": [
            "Input shape: (32, 24, 14)\n",
            "Output shape: (32, 24, 1)\n"
          ]
        }
      ]
    },
    {
      "cell_type": "code",
      "source": [
        "# wide_window.plot(baseline)"
      ],
      "metadata": {
        "id": "Od6tIiI9YDl2"
      },
      "execution_count": null,
      "outputs": []
    },
    {
      "cell_type": "markdown",
      "source": [
        "#### Variable for storing performance of validation and testing"
      ],
      "metadata": {
        "id": "a6t0APs0c-zA"
      }
    },
    {
      "cell_type": "code",
      "source": [
        "val_performance = {} # performance tested on val ds\n",
        "performance = {}  # performance tested on testing ds\n",
        "\n",
        "val_performance['Baseline'] = baseline.evaluate(wide_window.val)\n",
        "performance['Baseline'] = baseline.evaluate(wide_window.test, verbose=0)"
      ],
      "metadata": {
        "colab": {
          "base_uri": "https://localhost:8080/"
        },
        "id": "DEVTzIBHSQ1c",
        "outputId": "2daf608c-9d69-4919-c445-32272a254ee2"
      },
      "execution_count": null,
      "outputs": [
        {
          "output_type": "stream",
          "name": "stdout",
          "text": [
            "438/438 [==============================] - 3s 5ms/step - loss: 0.2517 - mean_absolute_error: 0.3671\n"
          ]
        }
      ]
    },
    {
      "cell_type": "markdown",
      "source": [
        "## Training Procedure"
      ],
      "metadata": {
        "id": "R4ZhU-iMav5W"
      }
    },
    {
      "cell_type": "code",
      "source": [
        "MAX_EPOCHS = 10\n",
        "\n",
        "def compile_and_fit(model, window, patience=2):\n",
        "  early_stopping = tf.keras.callbacks.EarlyStopping(monitor='val_loss',\n",
        "                                                    patience=patience,\n",
        "                                                    mode='min')\n",
        "\n",
        "  model.compile(loss=tf.keras.losses.MeanSquaredError(),\n",
        "                optimizer=tf.keras.optimizers.Adam(),\n",
        "                metrics=[tf.keras.metrics.MeanAbsoluteError() , tf.keras.metrics.MeanSquaredError()])\n",
        "\n",
        "  history = model.fit(window.train, epochs=MAX_EPOCHS,\n",
        "                      validation_data=window.val,\n",
        "                      callbacks=[early_stopping])\n",
        "  return history"
      ],
      "metadata": {
        "id": "QIhaqlZFZ12e"
      },
      "execution_count": null,
      "outputs": []
    },
    {
      "cell_type": "markdown",
      "source": [
        "### RNN"
      ],
      "metadata": {
        "id": "U20_16WQ9dty"
      }
    },
    {
      "cell_type": "code",
      "source": [
        "rnn = Sequential()\n",
        "rnn.add(SimpleRNN(64 , return_sequences=True))\n",
        "rnn.add(Dense(1))"
      ],
      "metadata": {
        "id": "IfuH_XMB9dBY"
      },
      "execution_count": null,
      "outputs": []
    },
    {
      "cell_type": "markdown",
      "source": [
        "### LSTM"
      ],
      "metadata": {
        "id": "sFXl8DHf9Hx8"
      }
    },
    {
      "cell_type": "code",
      "source": [
        "lstm_model = Sequential()\n",
        "lstm_model.add(LSTM(64, return_sequences=True))\n",
        "lstm_model.add(Dense(1))"
      ],
      "metadata": {
        "id": "69YDm9Qe9HZT"
      },
      "execution_count": null,
      "outputs": []
    },
    {
      "cell_type": "markdown",
      "source": [
        "### Bi-LSTM"
      ],
      "metadata": {
        "id": "VA9-3kWZwxOp"
      }
    },
    {
      "cell_type": "code",
      "source": [
        "model = Sequential()\n",
        "model.add(Bidirectional(LSTM(10, return_sequences=True)))\n",
        "model.add(Dense(1))"
      ],
      "metadata": {
        "id": "1I4VnTtEww5s"
      },
      "execution_count": null,
      "outputs": []
    },
    {
      "cell_type": "markdown",
      "source": [
        "### GRU"
      ],
      "metadata": {
        "id": "OObnS7wly1VX"
      }
    },
    {
      "cell_type": "code",
      "source": [
        "gru_model = Sequential()\n",
        "gru_model.add(GRU(64,return_sequences=True))\n",
        "gru_model.add(Dense(1))"
      ],
      "metadata": {
        "id": "0G3wVvIcy3VW"
      },
      "execution_count": null,
      "outputs": []
    },
    {
      "cell_type": "markdown",
      "source": [
        "### Bi-GRU"
      ],
      "metadata": {
        "id": "6UQ09oig_0SE"
      }
    },
    {
      "cell_type": "code",
      "source": [
        "bi_gru = Sequential()\n",
        "bi_gru.add(Bidirectional(GRU(10, return_sequences=True)))\n",
        "bi_gru.add(Dense(1))"
      ],
      "metadata": {
        "id": "MqegJMdI_2Wu"
      },
      "execution_count": null,
      "outputs": []
    },
    {
      "cell_type": "markdown",
      "source": [
        "--------------------------------------------------------------------------------"
      ],
      "metadata": {
        "id": "48uuatoh3GdJ"
      }
    },
    {
      "cell_type": "markdown",
      "source": [
        "## Evaluation Procedure"
      ],
      "metadata": {
        "id": "fWg0oj1LNDAw"
      }
    },
    {
      "cell_type": "markdown",
      "source": [
        "### Evaluating RNN"
      ],
      "metadata": {
        "id": "2omc93cx-4Sf"
      }
    },
    {
      "cell_type": "code",
      "source": [
        "history_rnn = compile_and_fit(rnn , wide_window)\n",
        "\n",
        "IPython.display.clear_output()\n",
        "\n",
        "val_performance['RNN'] = rnn.evaluate(wide_window.val)\n",
        "performance['RNN'] = rnn.evaluate(wide_window.test, verbose=0)"
      ],
      "metadata": {
        "id": "LktknW21_Ggv"
      },
      "execution_count": null,
      "outputs": []
    },
    {
      "cell_type": "code",
      "source": [
        "print('Input shape:', wide_window.example[0].shape)\n",
        "print('Output shape:', rnn(wide_window.example[0]).shape)"
      ],
      "metadata": {
        "colab": {
          "base_uri": "https://localhost:8080/"
        },
        "outputId": "22d67a74-b435-43cd-bbf7-b30a33df5221",
        "id": "m2Y5E8xj_kKy"
      },
      "execution_count": null,
      "outputs": [
        {
          "output_type": "stream",
          "name": "stdout",
          "text": [
            "Input shape: (32, 24, 14)\n",
            "Output shape: (32, 24, 1)\n"
          ]
        }
      ]
    },
    {
      "cell_type": "markdown",
      "source": [
        "### Evaluating lstm model"
      ],
      "metadata": {
        "id": "Ov9I5kqZkVdY"
      }
    },
    {
      "cell_type": "code",
      "source": [
        "history_lstm = compile_and_fit(lstm_model, wide_window)\n",
        "\n",
        "IPython.display.clear_output()\n",
        "val_performance['LSTM'] = lstm_model.evaluate(wide_window.val)\n",
        "performance['LSTM'] = lstm_model.evaluate(wide_window.test, verbose=0)"
      ],
      "metadata": {
        "colab": {
          "base_uri": "https://localhost:8080/"
        },
        "id": "CVOXHePlqR5K",
        "outputId": "fe08f423-7c49-401c-e5e3-c5f816d8e687"
      },
      "execution_count": null,
      "outputs": [
        {
          "output_type": "stream",
          "name": "stdout",
          "text": [
            "438/438 [==============================] - 2s 5ms/step - loss: 0.0944 - mean_absolute_error: 0.2307\n"
          ]
        }
      ]
    },
    {
      "cell_type": "code",
      "source": [
        "print('Input shape:', wide_window.example[0].shape)\n",
        "print('Output shape:', lstm_model(wide_window.example[0]).shape)"
      ],
      "metadata": {
        "colab": {
          "base_uri": "https://localhost:8080/"
        },
        "id": "iSKQ8Dm5qGKx",
        "outputId": "015b0d67-60a6-4450-d2dd-ee56e9de967b"
      },
      "execution_count": null,
      "outputs": [
        {
          "output_type": "stream",
          "name": "stdout",
          "text": [
            "Input shape: (32, 24, 14)\n",
            "Output shape: (32, 24, 1)\n"
          ]
        }
      ]
    },
    {
      "cell_type": "markdown",
      "source": [
        "### Evaluating Bi-LSTM model"
      ],
      "metadata": {
        "id": "JWOkXMUrx6U4"
      }
    },
    {
      "cell_type": "code",
      "source": [
        "history_bilstm = compile_and_fit(model, wide_window)\n",
        "\n",
        "IPython.display.clear_output()\n",
        "val_performance['Bi-LSTM'] = model.evaluate(wide_window.val)\n",
        "performance['Bi-LSTM'] = model.evaluate(wide_window.test, verbose=0)"
      ],
      "metadata": {
        "id": "Jw_r4D9ex-4B",
        "colab": {
          "base_uri": "https://localhost:8080/"
        },
        "outputId": "870ed814-a692-46ee-c9d5-3c32c1668e39"
      },
      "execution_count": null,
      "outputs": [
        {
          "output_type": "stream",
          "name": "stdout",
          "text": [
            "438/438 [==============================] - 3s 7ms/step - loss: 0.0064 - mean_absolute_error: 0.0551 - mean_squared_error: 0.0064\n"
          ]
        }
      ]
    },
    {
      "cell_type": "code",
      "source": [
        "print('Input shape:', wide_window.example[0].shape)\n",
        "print('Output shape:', model(wide_window.example[0]).shape)"
      ],
      "metadata": {
        "colab": {
          "base_uri": "https://localhost:8080/"
        },
        "id": "t__EuWXqyDxL",
        "outputId": "95b2abe2-63a9-4ba9-ceab-64ed75211872"
      },
      "execution_count": null,
      "outputs": [
        {
          "output_type": "stream",
          "name": "stdout",
          "text": [
            "Input shape: (32, 24, 14)\n",
            "Output shape: (32, 1)\n"
          ]
        }
      ]
    },
    {
      "cell_type": "markdown",
      "source": [
        "### Evaluating GRU model"
      ],
      "metadata": {
        "id": "WXUljHotzYU2"
      }
    },
    {
      "cell_type": "code",
      "source": [
        "history_gru = compile_and_fit(gru_model, wide_window)\n",
        "\n",
        "IPython.display.clear_output()\n",
        "val_performance['GRU'] = gru_model.evaluate(wide_window.val)\n",
        "performance['GRU'] = gru_model.evaluate(wide_window.test, verbose=0)"
      ],
      "metadata": {
        "colab": {
          "base_uri": "https://localhost:8080/"
        },
        "id": "J1A8qd9dzYU3",
        "outputId": "faffac97-4c7c-4463-eaed-49c7072ce512"
      },
      "execution_count": null,
      "outputs": [
        {
          "output_type": "stream",
          "name": "stdout",
          "text": [
            "438/438 [==============================] - 2s 5ms/step - loss: 0.0930 - mean_absolute_error: 0.2293\n"
          ]
        }
      ]
    },
    {
      "cell_type": "code",
      "source": [
        "print('Input shape:', wide_window.example[0].shape)\n",
        "print('Output shape:', gru_model(wide_window.example[0]).shape)"
      ],
      "metadata": {
        "colab": {
          "base_uri": "https://localhost:8080/"
        },
        "id": "-v3mtA-czYU4",
        "outputId": "391cc8ab-7eee-4b2a-cdf8-f12664d85bf4"
      },
      "execution_count": null,
      "outputs": [
        {
          "output_type": "stream",
          "name": "stdout",
          "text": [
            "Input shape: (32, 24, 14)\n",
            "Output shape: (32, 24, 1)\n"
          ]
        }
      ]
    },
    {
      "cell_type": "markdown",
      "source": [
        "### Evaluating Bi-GRU"
      ],
      "metadata": {
        "id": "iPKmqmI1_tyh"
      }
    },
    {
      "cell_type": "code",
      "source": [
        "history_bigru = compile_and_fit(bi_gru, wide_window)\n",
        "\n",
        "IPython.display.clear_output()\n",
        "val_performance['Bi-GRU'] = bi_gru.evaluate(wide_window.val)\n",
        "performance['Bi-GRU'] = bi_gru.evaluate(wide_window.test, verbose=0)"
      ],
      "metadata": {
        "colab": {
          "base_uri": "https://localhost:8080/"
        },
        "outputId": "02aa65da-1942-43bb-a8c7-74d8b6ec8f63",
        "id": "UbcS2p37b1CW"
      },
      "execution_count": null,
      "outputs": [
        {
          "output_type": "stream",
          "name": "stdout",
          "text": [
            "438/438 [==============================] - 2s 5ms/step - loss: 0.0101 - mean_absolute_error: 0.0684\n"
          ]
        }
      ]
    },
    {
      "cell_type": "code",
      "source": [
        "print('Input shape:', wide_window.example[0].shape)\n",
        "print('Output shape:', bi_gru(wide_window.example[0]).shape)"
      ],
      "metadata": {
        "colab": {
          "base_uri": "https://localhost:8080/"
        },
        "outputId": "989d5dbc-bf45-4a2d-f226-aeac63b007a5",
        "id": "GrvjChs2b1CX"
      },
      "execution_count": null,
      "outputs": [
        {
          "output_type": "stream",
          "name": "stdout",
          "text": [
            "Input shape: (32, 24, 14)\n",
            "Output shape: (32, 24, 1)\n"
          ]
        }
      ]
    },
    {
      "cell_type": "markdown",
      "source": [
        "## Performance"
      ],
      "metadata": {
        "id": "5zCEXSpMNNiO"
      }
    },
    {
      "cell_type": "markdown",
      "source": [
        "### Graphical Representation"
      ],
      "metadata": {
        "id": "AWJIv711thl_"
      }
    },
    {
      "cell_type": "code",
      "source": [
        "# wide_window.plot(bi_gru)"
      ],
      "metadata": {
        "id": "W1lbj6yoE5TJ"
      },
      "execution_count": null,
      "outputs": []
    },
    {
      "cell_type": "code",
      "source": [
        "x = np.arange(len(performance))\n",
        "width = 0.3\n",
        "metric_name = 'mean_absolute_error'\n",
        "metric_index = lstm_model.metrics_names.index('mean_absolute_error')\n",
        "val_mae = [v[metric_index] for v in val_performance.values()]\n",
        "test_mae = [v[metric_index] for v in performance.values()]\n",
        "\n",
        "plt.ylabel('mean_absolute_error [T (degC), normalized]')\n",
        "plt.bar(x - 0.17, val_mae, width, label='Validation')\n",
        "plt.bar(x + 0.17, test_mae, width, label='Test')\n",
        "plt.xticks(ticks=x, labels=performance.keys(),\n",
        "           rotation=45)\n",
        "_ = plt.legend()"
      ],
      "metadata": {
        "colab": {
          "base_uri": "https://localhost:8080/",
          "height": 560
        },
        "id": "dUE999dQti-p",
        "outputId": "e2451b52-088d-4ffa-e3a9-ce9f4de24d30"
      },
      "execution_count": null,
      "outputs": [
        {
          "output_type": "display_data",
          "data": {
            "text/plain": [
              "<Figure size 800x600 with 1 Axes>"
            ],
            "image/png": "[encoded data removed]"
          },
          "metadata": {}
        }
      ]
    },
    {
      "cell_type": "code",
      "source": [
        "for name, value in performance.items():\n",
        "  print(f'{name:12s}: {value[1]:0.4f}')"
      ],
      "metadata": {
        "colab": {
          "base_uri": "https://localhost:8080/"
        },
        "id": "aCaHJo5Etl60",
        "outputId": "d4792268-8118-418a-ffab-a2c717376d87"
      },
      "execution_count": null,
      "outputs": [
        {
          "output_type": "stream",
          "name": "stdout",
          "text": [
            "Baseline    : 0.3966\n",
            "RNN         : 0.2423\n",
            "LSTM        : 0.2104\n",
            "Bi-LSTM     : 0.0558\n",
            "GRU         : 0.2103\n",
            "Bi-GRU      : 0.0646\n"
          ]
        }
      ]
    },
    {
      "cell_type": "code",
      "source": [
        "predicted = lstm_model.predict(wide_window.val)"
      ],
      "metadata": {
        "id": "g1LMZdgPtmU-",
        "colab": {
          "base_uri": "https://localhost:8080/"
        },
        "outputId": "71ed0bf1-9faf-4052-8a61-c606e9f02a36"
      },
      "execution_count": null,
      "outputs": [
        {
          "output_type": "stream",
          "name": "stdout",
          "text": [
            "438/438 [==============================] - 4s 8ms/step\n"
          ]
        }
      ]
    },
    {
      "cell_type": "code",
      "source": [
        "val_ds = wide_window.val\n",
        "dataset_list = list(val_ds)\n",
        "\n",
        "count = 0\n",
        "actual = np.array([])\n",
        "for i in range(len(dataset_list)):\n",
        "  for j in range(len(dataset_list[i][1])):\n",
        "    actual = np.insert(actual , count , dataset_list[i][1][j])\n",
        "  count += 1\n",
        "\n",
        "\n",
        "\n",
        "# for i in range(len(dataset_list)):\n",
        "#   for j in range(len(dataset_list[i][1])):\n",
        "#     actual = np.insert(actual ,count, dataset_list[i][1][0][0][0])\n",
        "#     count+=1"
      ],
      "metadata": {
        "id": "AMTX_P2o5S4j"
      },
      "execution_count": null,
      "outputs": []
    },
    {
      "cell_type": "code",
      "source": [
        "actual = actual.tolist()"
      ],
      "metadata": {
        "id": "dGN2wlHNB0BA"
      },
      "execution_count": null,
      "outputs": []
    },
    {
      "cell_type": "code",
      "source": [
        "actual[:64]"
      ],
      "metadata": {
        "id": "rpsh5LyHEsiX"
      },
      "execution_count": null,
      "outputs": []
    },
    {
      "cell_type": "code",
      "source": [
        "dataset_list[436][1]"
      ],
      "metadata": {
        "id": "Y4ZyLIHMCm00"
      },
      "execution_count": null,
      "outputs": []
    },
    {
      "cell_type": "code",
      "source": [
        "len(actual)"
      ],
      "metadata": {
        "colab": {
          "base_uri": "https://localhost:8080/"
        },
        "id": "QTXWvZ8X_aAQ",
        "outputId": "81daefbf-3fc4-484f-eb84-bee9b406411f"
      },
      "execution_count": null,
      "outputs": [
        {
          "output_type": "execute_result",
          "data": {
            "text/plain": [
              "13994"
            ]
          },
          "metadata": {},
          "execution_count": 180
        }
      ]
    },
    {
      "cell_type": "code",
      "source": [
        "predicted.shape"
      ],
      "metadata": {
        "colab": {
          "base_uri": "https://localhost:8080/"
        },
        "id": "tZIVV9PRAxHZ",
        "outputId": "575a0432-00e4-4217-cea8-ba5d07db73c6"
      },
      "execution_count": null,
      "outputs": [
        {
          "output_type": "execute_result",
          "data": {
            "text/plain": [
              "(13994, 24, 1)"
            ]
          },
          "metadata": {},
          "execution_count": 181
        }
      ]
    },
    {
      "cell_type": "code",
      "source": [
        "print(\"Dataset contains \", len(dataset_list) , \" arrays\")\n",
        "print(\"In every array it contains \" ,len(dataset_list[0]) , \" elements , Input + Label \")\n",
        "print(\"In both the elements there are \" , len(dataset_list[0][0]) , \" & \" , len(dataset_list[0][1]) , \" arrays\")\n",
        "print(\"Inside the 32 arrays in Input element there is array of \" , len(dataset_list[0][0][0]) , \" elements , which signifies That many hours of previous data is used as input\")\n",
        "print(\"Inside the 32 arrays in Label element there is array of \" , len(dataset_list[0][1][0]) , \" element , which signifies That many hours of prediction is done\")\n",
        "print(\"Inside the 24 arrays in Input element in that each array consists of \" , len(dataset_list[0][0][0][0]) , \" elements , which signifies number of features\")\n",
        "\n",
        "print(\"\\nLabel can be accessed by \" , dataset_list[0][1][0][0][0]) # using 5 dimensions"
      ],
      "metadata": {
        "colab": {
          "base_uri": "https://localhost:8080/"
        },
        "id": "douQgZMIDf1R",
        "outputId": "abad892b-cc51-4cbe-a099-e317dc536539"
      },
      "execution_count": null,
      "outputs": [
        {
          "output_type": "stream",
          "name": "stdout",
          "text": [
            "Dataset contains  438  arrays\n",
            "In every array it contains  2  elements , Input + Label \n",
            "In both the elements there are  32  &  32  arrays\n",
            "Inside the 32 arrays in Input element there is array of  24  elements , which signifies That many hours of previous data is used as input\n",
            "Inside the 32 arrays in Label element there is array of  1  element , which signifies That many hours of prediction is done\n",
            "Inside the 24 arrays in Input element in that each array consists of  14  elements , which signifies number of features\n",
            "\n",
            "Label can be accessed by  tf.Tensor(-0.38685453, shape=(), dtype=float32)\n"
          ]
        }
      ]
    },
    {
      "cell_type": "markdown",
      "source": [
        "#### Scatter plot"
      ],
      "metadata": {
        "id": "NxV0NJMuHRY4"
      }
    },
    {
      "cell_type": "code",
      "source": [
        "actual_t = actual[:5000]\n",
        "predicted_t = predicted[:5000][:,0,0]"
      ],
      "metadata": {
        "id": "oFoc58fcd2LQ"
      },
      "execution_count": null,
      "outputs": []
    },
    {
      "cell_type": "code",
      "source": [
        "fig, ax = plt.subplots()\n",
        "ax.scatter(actual_t, predicted_t, edgecolors=(0, 0, 0))\n",
        "ax.plot([min(actual_t), max(actual_t)], [min(predicted_t), max(predicted_t)], 'k--', lw=4)\n",
        "ax.set_xlabel('Measured')\n",
        "ax.set_ylabel('Predicted')\n",
        "plt.legend([\"Actual\" , \"Predicted\"])\n",
        "plt.tight_layout()\n",
        "plt.show()"
      ],
      "metadata": {
        "colab": {
          "base_uri": "https://localhost:8080/",
          "height": 607
        },
        "id": "N6Dz8GlbXlbS",
        "outputId": "a887d947-5f89-4e08-a311-f6e715df2987"
      },
      "execution_count": null,
      "outputs": [
        {
          "output_type": "display_data",
          "data": {
            "text/plain": [
              "<Figure size 800x600 with 1 Axes>"
            ],
            "image/png": "[encoded data removed]"
          },
          "metadata": {}
        }
      ]
    },
    {
      "cell_type": "code",
      "source": [
        "plt.scatter(history.history['mean_absolute_error'] , history.history['mean_squared_error'])"
      ],
      "metadata": {
        "colab": {
          "base_uri": "https://localhost:8080/",
          "height": 539
        },
        "id": "29aiHax_7R1p",
        "outputId": "4b5cfb0d-9bb5-40d0-a7bd-f196050409be"
      },
      "execution_count": null,
      "outputs": [
        {
          "output_type": "execute_result",
          "data": {
            "text/plain": [
              "<matplotlib.collections.PathCollection at 0x7fa8da328100>"
            ]
          },
          "metadata": {},
          "execution_count": 196
        },
        {
          "output_type": "display_data",
          "data": {
            "text/plain": [
              "<Figure size 800x600 with 1 Axes>"
            ],
            "image/png": "[encoded data removed]"
          },
          "metadata": {}
        }
      ]
    },
    {
      "cell_type": "markdown",
      "source": [
        "#### Line Plot"
      ],
      "metadata": {
        "id": "BN5lCgtVHNgG"
      }
    },
    {
      "cell_type": "code",
      "source": [
        "x=np.linspace(1,20,100)\n",
        "actual_t = actual[:100]\n",
        "predicted_t = predicted[:,0,0]\n",
        "predicted_t = predicted_t[:100]\n",
        "# Plot\n",
        "# plt.plot(x,predicted_t)\n",
        "plt.plot(x, actual_t)\n",
        "\n",
        "# Decorate\n",
        "plt.xlabel('x')\n",
        "plt.title('Actual and predicted')\n",
        "plt.xlim(1,20.1)\n",
        "plt.ylim(-3.5 , 3.2)\n",
        "plt.legend([\"Predicted\" , \"Actual\"])\n",
        "plt.tight_layout()\n",
        "plt.show()"
      ],
      "metadata": {
        "colab": {
          "base_uri": "https://localhost:8080/",
          "height": 607
        },
        "id": "UdeTlvU-dUV0",
        "outputId": "2a90dad1-3c71-4cde-ae5e-319052b23e62"
      },
      "execution_count": null,
      "outputs": [
        {
          "output_type": "display_data",
          "data": {
            "text/plain": [
              "<Figure size 800x600 with 1 Axes>"
            ],
            "image/png": "[encoded data removed]"
          },
          "metadata": {}
        }
      ]
    },
    {
      "cell_type": "markdown",
      "source": [
        "--------------------------------------------------------------------------------\n",
        "--------------------------------------------------------------------------------"
      ],
      "metadata": {
        "id": "nqGXX1_6MAah"
      }
    },
    {
      "cell_type": "code",
      "source": [
        "plt.figure(figsize=(6,6))\n",
        "plt.scatter(actual_t, predicted_t, c='crimson')\n",
        "plt.yscale('log')\n",
        "plt.xscale('log')\n",
        "\n",
        "p1 = max(max(predicted_t), max(actual_t))\n",
        "p2 = min(min(predicted_t), min(actual_t))\n",
        "plt.plot([p1, p2], [p1, p2], 'b-')\n",
        "plt.xlabel('True Values', fontsize=15)\n",
        "plt.ylabel('Predictions', fontsize=15)\n",
        "plt.axis('equal')\n",
        "plt.show()\n"
      ],
      "metadata": {
        "colab": {
          "base_uri": "https://localhost:8080/",
          "height": 552
        },
        "id": "vfEr7_QYdzeZ",
        "outputId": "4de7b019-5522-49bd-dc13-b4f1f21c68b8"
      },
      "execution_count": null,
      "outputs": [
        {
          "output_type": "display_data",
          "data": {
            "text/plain": [
              "<Figure size 600x600 with 1 Axes>"
            ],
            "image/png": "[encoded data removed]"
          },
          "metadata": {}
        }
      ]
    },
    {
      "cell_type": "code",
      "source": [
        "actual_t = actual[:300]\n",
        "predicted_t = predicted[:300]\n",
        "\n",
        "# time_steps = np.arange(len(actual_t))\n",
        "\n",
        "# plt.scatter(time_steps, actual_t, label='Actual')\n",
        "# plt.scatter(time_steps, predicted_t[:,0], label='Predicted')\n",
        "# plt.xlabel('Index')\n",
        "# plt.ylabel('Values')\n",
        "# plt.title('Actual vs Predicted Values')\n",
        "# plt.legend()\n",
        "# plt.show()\n",
        "\n",
        "# Plotting the scatter plot\n",
        "plt.scatter(actual_t, predicted_t)\n",
        "\n",
        "# Adding labels and title\n",
        "plt.xlabel('Actual Values')\n",
        "plt.ylabel('Predicted Values')\n",
        "plt.title('Actual vs Predicted Values')\n",
        "\n",
        "# Display the plot\n",
        "plt.show()"
      ],
      "metadata": {
        "colab": {
          "base_uri": "https://localhost:8080/",
          "height": 564
        },
        "id": "ycDgdqIz4i7C",
        "outputId": "71f3f0a2-a8c8-4833-9de4-ba37d161277c"
      },
      "execution_count": null,
      "outputs": [
        {
          "output_type": "display_data",
          "data": {
            "text/plain": [
              "<Figure size 800x600 with 1 Axes>"
            ],
            "image/png": "[encoded data removed]"
          },
          "metadata": {}
        }
      ]
    }
  ]
}